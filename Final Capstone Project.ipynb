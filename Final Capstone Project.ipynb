{
 "cells": [
  {
   "cell_type": "code",
   "execution_count": 1,
   "id": "630a199b",
   "metadata": {},
   "outputs": [],
   "source": [
    "# import 'Pandas' \n",
    "import pandas as pd \n",
    "\n",
    "# import 'Numpy' \n",
    "import numpy as np\n",
    "\n",
    "# import subpackage of Matplotlib\n",
    "import matplotlib.pyplot as plt\n",
    "from matplotlib.colors import ListedColormap\n",
    "\n",
    "# import 'Seaborn' \n",
    "import seaborn as sns\n",
    "\n",
    "# to suppress warnings \n",
    "from warnings import filterwarnings\n",
    "filterwarnings('ignore')\n",
    "\n",
    "# display all columns of the dataframe\n",
    "pd.options.display.max_columns = None\n",
    "\n",
    "# display all rows of the dataframe\n",
    "pd.options.display.max_rows = None\n",
    " \n",
    "# to display the float values upto 6 decimal places     \n",
    "pd.options.display.float_format = '{:.6f}'.format\n",
    "\n",
    "# import train-test split \n",
    "from sklearn.model_selection import train_test_split\n",
    "\n",
    "# import various functions from statsmodels\n",
    "import statsmodels\n",
    "import statsmodels.api as sm\n",
    "\n",
    "# import StandardScaler to perform scaling\n",
    "from sklearn.preprocessing import StandardScaler \n",
    "\n",
    "# import various functions from sklearn \n",
    "from sklearn import metrics\n",
    "from sklearn.linear_model import LogisticRegression\n",
    "from sklearn.metrics import classification_report\n",
    "from sklearn.metrics import cohen_kappa_score\n",
    "from sklearn.metrics import confusion_matrix\n",
    "from sklearn.metrics import roc_curve\n",
    "from sklearn.metrics import accuracy_score\n",
    "from sklearn.tree import DecisionTreeClassifier\n",
    "from sklearn.ensemble import RandomForestClassifier\n",
    "from sklearn import tree\n",
    "from sklearn.model_selection import GridSearchCV\n",
    "from sklearn.ensemble import AdaBoostClassifier,GradientBoostingClassifier\n",
    "from catboost import CatBoostClassifier\n",
    "\n",
    "# import function to perform feature selection\n",
    "from sklearn.feature_selection import RFE\n",
    "\n",
    "\n",
    "\n",
    "plt.rcParams['figure.figsize'] = [15,8]"
   ]
  },
  {
   "cell_type": "code",
   "execution_count": 2,
   "id": "bba7a298",
   "metadata": {},
   "outputs": [],
   "source": [
    "train  = pd.read_csv('train_data.csv')\n",
    "test = pd.read_csv('test_data.csv')"
   ]
  },
  {
   "cell_type": "code",
   "execution_count": 3,
   "id": "fb259480",
   "metadata": {},
   "outputs": [
    {
     "data": {
      "text/html": [
       "<div>\n",
       "<style scoped>\n",
       "    .dataframe tbody tr th:only-of-type {\n",
       "        vertical-align: middle;\n",
       "    }\n",
       "\n",
       "    .dataframe tbody tr th {\n",
       "        vertical-align: top;\n",
       "    }\n",
       "\n",
       "    .dataframe thead th {\n",
       "        text-align: right;\n",
       "    }\n",
       "</style>\n",
       "<table border=\"1\" class=\"dataframe\">\n",
       "  <thead>\n",
       "    <tr style=\"text-align: right;\">\n",
       "      <th></th>\n",
       "      <th>case_id</th>\n",
       "      <th>Hospital_code</th>\n",
       "      <th>Hospital_type_code</th>\n",
       "      <th>City_Code_Hospital</th>\n",
       "      <th>Hospital_region_code</th>\n",
       "      <th>Available Extra Rooms in Hospital</th>\n",
       "      <th>Department</th>\n",
       "      <th>Ward_Type</th>\n",
       "      <th>Ward_Facility_Code</th>\n",
       "      <th>Bed Grade</th>\n",
       "      <th>patientid</th>\n",
       "      <th>City_Code_Patient</th>\n",
       "      <th>Type of Admission</th>\n",
       "      <th>Severity of Illness</th>\n",
       "      <th>Visitors with Patient</th>\n",
       "      <th>Age</th>\n",
       "      <th>Admission_Deposit</th>\n",
       "      <th>Stay</th>\n",
       "    </tr>\n",
       "  </thead>\n",
       "  <tbody>\n",
       "    <tr>\n",
       "      <th>0</th>\n",
       "      <td>1</td>\n",
       "      <td>8</td>\n",
       "      <td>c</td>\n",
       "      <td>3</td>\n",
       "      <td>Z</td>\n",
       "      <td>3</td>\n",
       "      <td>radiotherapy</td>\n",
       "      <td>R</td>\n",
       "      <td>F</td>\n",
       "      <td>2.000000</td>\n",
       "      <td>31397</td>\n",
       "      <td>7.000000</td>\n",
       "      <td>Emergency</td>\n",
       "      <td>Extreme</td>\n",
       "      <td>2</td>\n",
       "      <td>51-60</td>\n",
       "      <td>4911.000000</td>\n",
       "      <td>0-10</td>\n",
       "    </tr>\n",
       "    <tr>\n",
       "      <th>1</th>\n",
       "      <td>2</td>\n",
       "      <td>2</td>\n",
       "      <td>c</td>\n",
       "      <td>5</td>\n",
       "      <td>Z</td>\n",
       "      <td>2</td>\n",
       "      <td>radiotherapy</td>\n",
       "      <td>S</td>\n",
       "      <td>F</td>\n",
       "      <td>2.000000</td>\n",
       "      <td>31397</td>\n",
       "      <td>7.000000</td>\n",
       "      <td>Trauma</td>\n",
       "      <td>Extreme</td>\n",
       "      <td>2</td>\n",
       "      <td>51-60</td>\n",
       "      <td>5954.000000</td>\n",
       "      <td>41-50</td>\n",
       "    </tr>\n",
       "    <tr>\n",
       "      <th>2</th>\n",
       "      <td>3</td>\n",
       "      <td>10</td>\n",
       "      <td>e</td>\n",
       "      <td>1</td>\n",
       "      <td>X</td>\n",
       "      <td>2</td>\n",
       "      <td>anesthesia</td>\n",
       "      <td>S</td>\n",
       "      <td>E</td>\n",
       "      <td>2.000000</td>\n",
       "      <td>31397</td>\n",
       "      <td>7.000000</td>\n",
       "      <td>Trauma</td>\n",
       "      <td>Extreme</td>\n",
       "      <td>2</td>\n",
       "      <td>51-60</td>\n",
       "      <td>4745.000000</td>\n",
       "      <td>31-40</td>\n",
       "    </tr>\n",
       "    <tr>\n",
       "      <th>3</th>\n",
       "      <td>4</td>\n",
       "      <td>26</td>\n",
       "      <td>b</td>\n",
       "      <td>2</td>\n",
       "      <td>Y</td>\n",
       "      <td>2</td>\n",
       "      <td>radiotherapy</td>\n",
       "      <td>R</td>\n",
       "      <td>D</td>\n",
       "      <td>2.000000</td>\n",
       "      <td>31397</td>\n",
       "      <td>7.000000</td>\n",
       "      <td>Trauma</td>\n",
       "      <td>Extreme</td>\n",
       "      <td>2</td>\n",
       "      <td>51-60</td>\n",
       "      <td>7272.000000</td>\n",
       "      <td>41-50</td>\n",
       "    </tr>\n",
       "    <tr>\n",
       "      <th>4</th>\n",
       "      <td>5</td>\n",
       "      <td>26</td>\n",
       "      <td>b</td>\n",
       "      <td>2</td>\n",
       "      <td>Y</td>\n",
       "      <td>2</td>\n",
       "      <td>radiotherapy</td>\n",
       "      <td>S</td>\n",
       "      <td>D</td>\n",
       "      <td>2.000000</td>\n",
       "      <td>31397</td>\n",
       "      <td>7.000000</td>\n",
       "      <td>Trauma</td>\n",
       "      <td>Extreme</td>\n",
       "      <td>2</td>\n",
       "      <td>51-60</td>\n",
       "      <td>5558.000000</td>\n",
       "      <td>41-50</td>\n",
       "    </tr>\n",
       "  </tbody>\n",
       "</table>\n",
       "</div>"
      ],
      "text/plain": [
       "   case_id  Hospital_code Hospital_type_code  City_Code_Hospital  \\\n",
       "0        1              8                  c                   3   \n",
       "1        2              2                  c                   5   \n",
       "2        3             10                  e                   1   \n",
       "3        4             26                  b                   2   \n",
       "4        5             26                  b                   2   \n",
       "\n",
       "  Hospital_region_code  Available Extra Rooms in Hospital    Department  \\\n",
       "0                    Z                                  3  radiotherapy   \n",
       "1                    Z                                  2  radiotherapy   \n",
       "2                    X                                  2    anesthesia   \n",
       "3                    Y                                  2  radiotherapy   \n",
       "4                    Y                                  2  radiotherapy   \n",
       "\n",
       "  Ward_Type Ward_Facility_Code  Bed Grade  patientid  City_Code_Patient  \\\n",
       "0         R                  F   2.000000      31397           7.000000   \n",
       "1         S                  F   2.000000      31397           7.000000   \n",
       "2         S                  E   2.000000      31397           7.000000   \n",
       "3         R                  D   2.000000      31397           7.000000   \n",
       "4         S                  D   2.000000      31397           7.000000   \n",
       "\n",
       "  Type of Admission Severity of Illness  Visitors with Patient    Age  \\\n",
       "0         Emergency             Extreme                      2  51-60   \n",
       "1            Trauma             Extreme                      2  51-60   \n",
       "2            Trauma             Extreme                      2  51-60   \n",
       "3            Trauma             Extreme                      2  51-60   \n",
       "4            Trauma             Extreme                      2  51-60   \n",
       "\n",
       "   Admission_Deposit   Stay  \n",
       "0        4911.000000   0-10  \n",
       "1        5954.000000  41-50  \n",
       "2        4745.000000  31-40  \n",
       "3        7272.000000  41-50  \n",
       "4        5558.000000  41-50  "
      ]
     },
     "execution_count": 3,
     "metadata": {},
     "output_type": "execute_result"
    }
   ],
   "source": [
    "train.head()"
   ]
  },
  {
   "cell_type": "code",
   "execution_count": 4,
   "id": "a72dd259",
   "metadata": {},
   "outputs": [
    {
     "name": "stdout",
     "output_type": "stream",
     "text": [
      "(318438, 18)\n",
      "(137057, 17)\n"
     ]
    }
   ],
   "source": [
    "print(train.shape)\n",
    "print(test.shape)"
   ]
  },
  {
   "cell_type": "code",
   "execution_count": 5,
   "id": "e897ced7",
   "metadata": {},
   "outputs": [
    {
     "data": {
      "text/plain": [
       "case_id                                int64\n",
       "Hospital_code                          int64\n",
       "Hospital_type_code                    object\n",
       "City_Code_Hospital                     int64\n",
       "Hospital_region_code                  object\n",
       "Available Extra Rooms in Hospital      int64\n",
       "Department                            object\n",
       "Ward_Type                             object\n",
       "Ward_Facility_Code                    object\n",
       "Bed Grade                            float64\n",
       "patientid                              int64\n",
       "City_Code_Patient                    float64\n",
       "Type of Admission                     object\n",
       "Severity of Illness                   object\n",
       "Visitors with Patient                  int64\n",
       "Age                                   object\n",
       "Admission_Deposit                    float64\n",
       "Stay                                  object\n",
       "dtype: object"
      ]
     },
     "execution_count": 5,
     "metadata": {},
     "output_type": "execute_result"
    }
   ],
   "source": [
    "train.dtypes"
   ]
  },
  {
   "cell_type": "code",
   "execution_count": 6,
   "id": "b91030b5",
   "metadata": {},
   "outputs": [
    {
     "data": {
      "text/plain": [
       "case_id                              318438\n",
       "Hospital_code                            32\n",
       "Hospital_type_code                        7\n",
       "City_Code_Hospital                       11\n",
       "Hospital_region_code                      3\n",
       "Available Extra Rooms in Hospital        18\n",
       "Department                                5\n",
       "Ward_Type                                 6\n",
       "Ward_Facility_Code                        6\n",
       "Bed Grade                                 4\n",
       "patientid                             92017\n",
       "City_Code_Patient                        37\n",
       "Type of Admission                         3\n",
       "Severity of Illness                       3\n",
       "Visitors with Patient                    28\n",
       "Age                                      10\n",
       "Admission_Deposit                      7300\n",
       "Stay                                     11\n",
       "dtype: int64"
      ]
     },
     "execution_count": 6,
     "metadata": {},
     "output_type": "execute_result"
    }
   ],
   "source": [
    "train.nunique()"
   ]
  },
  {
   "cell_type": "raw",
   "id": "398ca58b",
   "metadata": {},
   "source": [
    "Categorical: Hospital_code, Hospital_type_code,   City_Code_Hospital, Hospital_region_code, Available Extra Rooms in Hospital, \n",
    "             Department, Ward_Type, Ward_Facility_Code,    Bed Grade, City_Code_Patient, Type of Admission, Severity of Illness, \n",
    "             Age, Stay (Target variable)\n",
    "\n",
    "\n",
    "Numeric: Case_id, patientid, Admission_Deposit, Visitors with Patient, Available Extra Rooms in Hospital\n"
   ]
  },
  {
   "cell_type": "markdown",
   "id": "325c86ca",
   "metadata": {},
   "source": [
    "### Check Duplicates"
   ]
  },
  {
   "cell_type": "code",
   "execution_count": 7,
   "id": "1a552930",
   "metadata": {},
   "outputs": [
    {
     "data": {
      "text/plain": [
       "0"
      ]
     },
     "execution_count": 7,
     "metadata": {},
     "output_type": "execute_result"
    }
   ],
   "source": [
    "train.duplicated().sum()"
   ]
  },
  {
   "cell_type": "markdown",
   "id": "91a7db9c",
   "metadata": {},
   "source": [
    "### Change Data Types"
   ]
  },
  {
   "cell_type": "markdown",
   "id": "d8f2c5c1",
   "metadata": {},
   "source": [
    "##### For Train Data"
   ]
  },
  {
   "cell_type": "code",
   "execution_count": 8,
   "id": "ab5de102",
   "metadata": {},
   "outputs": [],
   "source": [
    "train['Hospital_code'] = train['Hospital_code'].astype(object)\n",
    "train['City_Code_Hospital'] = train['City_Code_Hospital'].astype(object)\n",
    "train['Available Extra Rooms in Hospital'] = train['Available Extra Rooms in Hospital'].astype(object)\n",
    "train['Bed Grade'] = train['Bed Grade'].astype(object)\n",
    "train['City_Code_Patient'] = train['City_Code_Patient'].astype(object)"
   ]
  },
  {
   "cell_type": "code",
   "execution_count": 9,
   "id": "f5a091e3",
   "metadata": {
    "scrolled": true
   },
   "outputs": [
    {
     "data": {
      "text/plain": [
       "case_id                                int64\n",
       "Hospital_code                         object\n",
       "Hospital_type_code                    object\n",
       "City_Code_Hospital                    object\n",
       "Hospital_region_code                  object\n",
       "Available Extra Rooms in Hospital     object\n",
       "Department                            object\n",
       "Ward_Type                             object\n",
       "Ward_Facility_Code                    object\n",
       "Bed Grade                             object\n",
       "patientid                              int64\n",
       "City_Code_Patient                     object\n",
       "Type of Admission                     object\n",
       "Severity of Illness                   object\n",
       "Visitors with Patient                  int64\n",
       "Age                                   object\n",
       "Admission_Deposit                    float64\n",
       "Stay                                  object\n",
       "dtype: object"
      ]
     },
     "execution_count": 9,
     "metadata": {},
     "output_type": "execute_result"
    }
   ],
   "source": [
    "train.dtypes"
   ]
  },
  {
   "cell_type": "markdown",
   "id": "da53992d",
   "metadata": {},
   "source": [
    "##### For Test Data"
   ]
  },
  {
   "cell_type": "code",
   "execution_count": 10,
   "id": "324f724b",
   "metadata": {},
   "outputs": [],
   "source": [
    "test['Hospital_code'] = test['Hospital_code'].astype(object)\n",
    "test['City_Code_Hospital'] = test['City_Code_Hospital'].astype(object)\n",
    "test['Available Extra Rooms in Hospital'] = test['Available Extra Rooms in Hospital'].astype(object)\n",
    "test['Bed Grade'] = test['Bed Grade'].astype(object)\n",
    "test['City_Code_Patient'] = test['City_Code_Patient'].astype(object)"
   ]
  },
  {
   "cell_type": "code",
   "execution_count": 11,
   "id": "650c8be8",
   "metadata": {},
   "outputs": [
    {
     "data": {
      "text/plain": [
       "case_id                                int64\n",
       "Hospital_code                         object\n",
       "Hospital_type_code                    object\n",
       "City_Code_Hospital                    object\n",
       "Hospital_region_code                  object\n",
       "Available Extra Rooms in Hospital     object\n",
       "Department                            object\n",
       "Ward_Type                             object\n",
       "Ward_Facility_Code                    object\n",
       "Bed Grade                             object\n",
       "patientid                              int64\n",
       "City_Code_Patient                     object\n",
       "Type of Admission                     object\n",
       "Severity of Illness                   object\n",
       "Visitors with Patient                  int64\n",
       "Age                                   object\n",
       "Admission_Deposit                    float64\n",
       "dtype: object"
      ]
     },
     "execution_count": 11,
     "metadata": {},
     "output_type": "execute_result"
    }
   ],
   "source": [
    "test.dtypes"
   ]
  },
  {
   "cell_type": "markdown",
   "id": "766aa018",
   "metadata": {},
   "source": [
    "### Remove Insignificant Variables"
   ]
  },
  {
   "cell_type": "code",
   "execution_count": 12,
   "id": "d6ecb3b6",
   "metadata": {},
   "outputs": [],
   "source": [
    "train.drop(['case_id', 'patientid'], axis=1, inplace=True)"
   ]
  },
  {
   "cell_type": "code",
   "execution_count": 13,
   "id": "e0170ac2",
   "metadata": {},
   "outputs": [],
   "source": [
    "test.drop(['case_id', 'patientid'], axis=1, inplace=True)"
   ]
  },
  {
   "cell_type": "markdown",
   "id": "9b83d5dc",
   "metadata": {},
   "source": [
    "### Data Modifications"
   ]
  },
  {
   "cell_type": "markdown",
   "id": "20cdbf94",
   "metadata": {},
   "source": [
    "#### i) Stay"
   ]
  },
  {
   "cell_type": "code",
   "execution_count": 14,
   "id": "cd2cb56e",
   "metadata": {},
   "outputs": [],
   "source": [
    "train['Stay'] .replace ('More than 100 Days', '100+', inplace=True)"
   ]
  },
  {
   "cell_type": "markdown",
   "id": "67ff4e64",
   "metadata": {},
   "source": [
    "### Distribution of numeric independent variables"
   ]
  },
  {
   "cell_type": "code",
   "execution_count": 15,
   "id": "c5a27597",
   "metadata": {},
   "outputs": [
    {
     "data": {
      "text/plain": [
       "<Figure size 1080x576 with 0 Axes>"
      ]
     },
     "metadata": {},
     "output_type": "display_data"
    },
    {
     "data": {
      "image/png": "[encoded data removed]",
      "text/plain": [
       "<Figure size 1080x576 with 2 Axes>"
      ]
     },
     "metadata": {
      "needs_background": "light"
     },
     "output_type": "display_data"
    },
    {
     "name": "stdout",
     "output_type": "stream",
     "text": [
      "Skewness:\n"
     ]
    },
    {
     "data": {
      "text/plain": [
       "Hospital_code                       -0.280783\n",
       "City_Code_Hospital                   0.538809\n",
       "Available Extra Rooms in Hospital    0.971930\n",
       "Bed Grade                            0.051754\n",
       "City_Code_Patient                    1.581736\n",
       "Visitors with Patient                3.137125\n",
       "Admission_Deposit                    0.931454\n",
       "dtype: float64"
      ]
     },
     "execution_count": 15,
     "metadata": {},
     "output_type": "execute_result"
    }
   ],
   "source": [
    "plt.figure(figsize=(15,8))\n",
    "\n",
    "train.drop('Stay', axis = 1).hist()\n",
    "plt.tight_layout()\n",
    "plt.show()  \n",
    "\n",
    "print('Skewness:')\n",
    "train.drop('Stay', axis = 1).skew()"
   ]
  },
  {
   "cell_type": "markdown",
   "id": "cc42ac02",
   "metadata": {},
   "source": [
    "### EDA"
   ]
  },
  {
   "cell_type": "markdown",
   "id": "5698731c",
   "metadata": {},
   "source": [
    "#### Univariate Analysis"
   ]
  },
  {
   "cell_type": "code",
   "execution_count": 16,
   "id": "3a9a517d",
   "metadata": {},
   "outputs": [
    {
     "data": {
      "image/png": "[encoded data removed]",
      "text/plain": [
       "<Figure size 720x360 with 1 Axes>"
      ]
     },
     "metadata": {
      "needs_background": "light"
     },
     "output_type": "display_data"
    },
    {
     "data": {
      "image/png": "[encoded data removed]",
      "text/plain": [
       "<Figure size 720x360 with 1 Axes>"
      ]
     },
     "metadata": {
      "needs_background": "light"
     },
     "output_type": "display_data"
    },
    {
     "data": {
      "image/png": "[encoded data removed]",
      "text/plain": [
       "<Figure size 720x360 with 1 Axes>"
      ]
     },
     "metadata": {
      "needs_background": "light"
     },
     "output_type": "display_data"
    },
    {
     "data": {
      "image/png": "[encoded data removed]",
      "text/plain": [
       "<Figure size 720x360 with 1 Axes>"
      ]
     },
     "metadata": {
      "needs_background": "light"
     },
     "output_type": "display_data"
    },
    {
     "data": {
      "image/png": "[encoded data removed]",
      "text/plain": [
       "<Figure size 720x360 with 1 Axes>"
      ]
     },
     "metadata": {
      "needs_background": "light"
     },
     "output_type": "display_data"
    },
    {
     "data": {
      "image/png": "[encoded data removed]",
      "text/plain": [
       "<Figure size 720x360 with 1 Axes>"
      ]
     },
     "metadata": {
      "needs_background": "light"
     },
     "output_type": "display_data"
    },
    {
     "data": {
      "image/png": "[encoded data removed]",
      "text/plain": [
       "<Figure size 720x360 with 1 Axes>"
      ]
     },
     "metadata": {
      "needs_background": "light"
     },
     "output_type": "display_data"
    },
    {
     "data": {
      "image/png": "[encoded data removed]",
      "text/plain": [
       "<Figure size 720x360 with 1 Axes>"
      ]
     },
     "metadata": {
      "needs_background": "light"
     },
     "output_type": "display_data"
    },
    {
     "data": {
      "image/png": "[encoded data removed]",
      "text/plain": [
       "<Figure size 720x360 with 1 Axes>"
      ]
     },
     "metadata": {
      "needs_background": "light"
     },
     "output_type": "display_data"
    },
    {
     "data": {
      "image/png": "[encoded data removed]",
      "text/plain": [
       "<Figure size 720x360 with 1 Axes>"
      ]
     },
     "metadata": {
      "needs_background": "light"
     },
     "output_type": "display_data"
    },
    {
     "data": {
      "image/png": "[encoded data removed]",
      "text/plain": [
       "<Figure size 720x360 with 1 Axes>"
      ]
     },
     "metadata": {
      "needs_background": "light"
     },
     "output_type": "display_data"
    },
    {
     "data": {
      "image/png": "[encoded data removed]",
      "text/plain": [
       "<Figure size 720x360 with 1 Axes>"
      ]
     },
     "metadata": {
      "needs_background": "light"
     },
     "output_type": "display_data"
    },
    {
     "data": {
      "image/png": "[encoded data removed]",
      "text/plain": [
       "<Figure size 720x360 with 1 Axes>"
      ]
     },
     "metadata": {
      "needs_background": "light"
     },
     "output_type": "display_data"
    },
    {
     "data": {
      "image/png": "[encoded data removed]",
      "text/plain": [
       "<Figure size 720x360 with 1 Axes>"
      ]
     },
     "metadata": {
      "needs_background": "light"
     },
     "output_type": "display_data"
    },
    {
     "data": {
      "image/png": "[encoded data removed]",
      "text/plain": [
       "<Figure size 720x360 with 1 Axes>"
      ]
     },
     "metadata": {
      "needs_background": "light"
     },
     "output_type": "display_data"
    }
   ],
   "source": [
    "train['Stay'] .replace('More than 100 Days', '>100', inplace=True)\n",
    "\n",
    "for i in [ 'Stay', 'Department', 'Available Extra Rooms in Hospital', 'Ward_Type' ,'Ward_Facility_Code', 'Age', \n",
    "          'Type of Admission', 'Severity of Illness', 'Bed Grade', 'Hospital_region_code', 'Hospital_type_code' ,  \n",
    "          'City_Code_Hospital', 'Hospital_code', 'City_Code_Patient', 'Visitors with Patient']:\n",
    "            count = train[i].value_counts()\n",
    "\n",
    "            plt.figure(figsize=(10,5))\n",
    "\n",
    "            sns.barplot(x=count.index.values, y=count.values,data=train)\n",
    "            \n",
    "            plt.xlabel(i)\n",
    "            plt.ylabel('No of occurences')"
   ]
  },
  {
   "cell_type": "raw",
   "id": "2ee7fa68",
   "metadata": {},
   "source": [
    "* Data related to patients stay between 0 - 60 days is more than the data of patients stay more than 60 days.\n",
    "* Most of the patients were admitted in gynecology department.\n",
    "* 2-4 rooms are mostly available in Hospitals.\n",
    "* Mostly patients were admitted in 'R', 'S' and 'Q' type of ward.\n",
    "* Patients were mostly between age  of 31-60 years.\n",
    "* Moderate severity of illness were highly recorded."
   ]
  },
  {
   "cell_type": "markdown",
   "id": "dbdaf6f7",
   "metadata": {},
   "source": [
    "#### Bivariate Analysis"
   ]
  },
  {
   "cell_type": "code",
   "execution_count": 17,
   "id": "f07b74db",
   "metadata": {},
   "outputs": [
    {
     "data": {
      "image/png": "[encoded data removed]",
      "text/plain": [
       "<Figure size 720x360 with 1 Axes>"
      ]
     },
     "metadata": {
      "needs_background": "light"
     },
     "output_type": "display_data"
    },
    {
     "data": {
      "image/png": "[encoded data removed]",
      "text/plain": [
       "<Figure size 720x360 with 1 Axes>"
      ]
     },
     "metadata": {
      "needs_background": "light"
     },
     "output_type": "display_data"
    },
    {
     "data": {
      "image/png": "[encoded data removed]",
      "text/plain": [
       "<Figure size 720x360 with 1 Axes>"
      ]
     },
     "metadata": {
      "needs_background": "light"
     },
     "output_type": "display_data"
    },
    {
     "data": {
      "image/png": "[encoded data removed]",
      "text/plain": [
       "<Figure size 720x360 with 1 Axes>"
      ]
     },
     "metadata": {
      "needs_background": "light"
     },
     "output_type": "display_data"
    },
    {
     "data": {
      "image/png": "[encoded data removed]",
      "text/plain": [
       "<Figure size 720x360 with 1 Axes>"
      ]
     },
     "metadata": {
      "needs_background": "light"
     },
     "output_type": "display_data"
    },
    {
     "data": {
      "image/png": "[encoded data removed]",
      "text/plain": [
       "<Figure size 720x360 with 1 Axes>"
      ]
     },
     "metadata": {
      "needs_background": "light"
     },
     "output_type": "display_data"
    },
    {
     "data": {
      "image/png": "[encoded data removed]",
      "text/plain": [
       "<Figure size 720x360 with 1 Axes>"
      ]
     },
     "metadata": {
      "needs_background": "light"
     },
     "output_type": "display_data"
    },
    {
     "data": {
      "image/png": "[encoded data removed]",
      "text/plain": [
       "<Figure size 720x360 with 1 Axes>"
      ]
     },
     "metadata": {
      "needs_background": "light"
     },
     "output_type": "display_data"
    },
    {
     "data": {
      "image/png": "[encoded data removed]",
      "text/plain": [
       "<Figure size 720x360 with 1 Axes>"
      ]
     },
     "metadata": {
      "needs_background": "light"
     },
     "output_type": "display_data"
    }
   ],
   "source": [
    "for i in [ 'Department', 'Ward_Type' ,'Ward_Facility_Code', 'Age', 'Type of Admission', 'Severity of Illness', \n",
    "          'Bed Grade', 'Hospital_region_code', 'Hospital_type_code' ]:\n",
    "\n",
    "            plt.figure(figsize=(10,5))\n",
    "\n",
    "            sns.countplot(x='Stay',hue=i,data=train)"
   ]
  },
  {
   "cell_type": "raw",
   "id": "5dd3a48d",
   "metadata": {},
   "source": [
    "Inferences –\n",
    "• In graph 1, gynecology has the most observations with highest number of records for 21-30 Days Stay.\n",
    "• In graph 2, ward type R and Q recorded the most number of patients for 21-30 Days and 11-20 Days.\n",
    "• In graph 3, ward Facility code ward F and E has the most number of patients for 11-60 days.\n",
    "• In graph 4, patients aged between 31-50 recorded most number of stays between 11-30 days.\n",
    "• In graph 5, patients suffering Trauma recorded the highest with 11-30 days.\n",
    "• In graph 6, patients with moderate and minor severity of illness recorded with highest number of days between 11-30 days.\n",
    "• In graph 7, bed grade 2.0 and 3.0 were mostly used for each category of length of stay.\n",
    "• In graph 8, Hospital region code X and Y  are in for every category of length of stay.\n",
    "• In graph 9, Hospital type code a, b and c are in for every category of length of stay.\n"
   ]
  },
  {
   "cell_type": "markdown",
   "id": "469f1791",
   "metadata": {},
   "source": [
    "#### Numerical Features"
   ]
  },
  {
   "cell_type": "code",
   "execution_count": 18,
   "id": "66ef46e9",
   "metadata": {},
   "outputs": [
    {
     "data": {
      "text/plain": [
       "<AxesSubplot:xlabel='Admission_Deposit', ylabel='Density'>"
      ]
     },
     "execution_count": 18,
     "metadata": {},
     "output_type": "execute_result"
    },
    {
     "data": {
      "image/png": "[encoded data removed]",
      "text/plain": [
       "<Figure size 1080x576 with 1 Axes>"
      ]
     },
     "metadata": {
      "needs_background": "light"
     },
     "output_type": "display_data"
    }
   ],
   "source": [
    "sns.distplot( train['Admission_Deposit'])"
   ]
  },
  {
   "cell_type": "markdown",
   "id": "575e65f4",
   "metadata": {},
   "source": [
    "#### Missing Value Treatment"
   ]
  },
  {
   "cell_type": "markdown",
   "id": "34251528",
   "metadata": {},
   "source": [
    "##### For Train Data"
   ]
  },
  {
   "cell_type": "code",
   "execution_count": 19,
   "id": "5a873d00",
   "metadata": {},
   "outputs": [
    {
     "data": {
      "text/html": [
       "<div>\n",
       "<style scoped>\n",
       "    .dataframe tbody tr th:only-of-type {\n",
       "        vertical-align: middle;\n",
       "    }\n",
       "\n",
       "    .dataframe tbody tr th {\n",
       "        vertical-align: top;\n",
       "    }\n",
       "\n",
       "    .dataframe thead th {\n",
       "        text-align: right;\n",
       "    }\n",
       "</style>\n",
       "<table border=\"1\" class=\"dataframe\">\n",
       "  <thead>\n",
       "    <tr style=\"text-align: right;\">\n",
       "      <th></th>\n",
       "      <th>Total</th>\n",
       "      <th>Percentage of Missing Values</th>\n",
       "    </tr>\n",
       "  </thead>\n",
       "  <tbody>\n",
       "    <tr>\n",
       "      <th>City_Code_Patient</th>\n",
       "      <td>4532</td>\n",
       "      <td>1.423197</td>\n",
       "    </tr>\n",
       "    <tr>\n",
       "      <th>Bed Grade</th>\n",
       "      <td>113</td>\n",
       "      <td>0.035486</td>\n",
       "    </tr>\n",
       "    <tr>\n",
       "      <th>Hospital_code</th>\n",
       "      <td>0</td>\n",
       "      <td>0.000000</td>\n",
       "    </tr>\n",
       "    <tr>\n",
       "      <th>Hospital_type_code</th>\n",
       "      <td>0</td>\n",
       "      <td>0.000000</td>\n",
       "    </tr>\n",
       "    <tr>\n",
       "      <th>City_Code_Hospital</th>\n",
       "      <td>0</td>\n",
       "      <td>0.000000</td>\n",
       "    </tr>\n",
       "    <tr>\n",
       "      <th>Hospital_region_code</th>\n",
       "      <td>0</td>\n",
       "      <td>0.000000</td>\n",
       "    </tr>\n",
       "    <tr>\n",
       "      <th>Available Extra Rooms in Hospital</th>\n",
       "      <td>0</td>\n",
       "      <td>0.000000</td>\n",
       "    </tr>\n",
       "    <tr>\n",
       "      <th>Department</th>\n",
       "      <td>0</td>\n",
       "      <td>0.000000</td>\n",
       "    </tr>\n",
       "    <tr>\n",
       "      <th>Ward_Type</th>\n",
       "      <td>0</td>\n",
       "      <td>0.000000</td>\n",
       "    </tr>\n",
       "    <tr>\n",
       "      <th>Ward_Facility_Code</th>\n",
       "      <td>0</td>\n",
       "      <td>0.000000</td>\n",
       "    </tr>\n",
       "    <tr>\n",
       "      <th>Type of Admission</th>\n",
       "      <td>0</td>\n",
       "      <td>0.000000</td>\n",
       "    </tr>\n",
       "    <tr>\n",
       "      <th>Severity of Illness</th>\n",
       "      <td>0</td>\n",
       "      <td>0.000000</td>\n",
       "    </tr>\n",
       "    <tr>\n",
       "      <th>Visitors with Patient</th>\n",
       "      <td>0</td>\n",
       "      <td>0.000000</td>\n",
       "    </tr>\n",
       "    <tr>\n",
       "      <th>Age</th>\n",
       "      <td>0</td>\n",
       "      <td>0.000000</td>\n",
       "    </tr>\n",
       "    <tr>\n",
       "      <th>Admission_Deposit</th>\n",
       "      <td>0</td>\n",
       "      <td>0.000000</td>\n",
       "    </tr>\n",
       "    <tr>\n",
       "      <th>Stay</th>\n",
       "      <td>0</td>\n",
       "      <td>0.000000</td>\n",
       "    </tr>\n",
       "  </tbody>\n",
       "</table>\n",
       "</div>"
      ],
      "text/plain": [
       "                                   Total  Percentage of Missing Values\n",
       "City_Code_Patient                   4532                      1.423197\n",
       "Bed Grade                            113                      0.035486\n",
       "Hospital_code                          0                      0.000000\n",
       "Hospital_type_code                     0                      0.000000\n",
       "City_Code_Hospital                     0                      0.000000\n",
       "Hospital_region_code                   0                      0.000000\n",
       "Available Extra Rooms in Hospital      0                      0.000000\n",
       "Department                             0                      0.000000\n",
       "Ward_Type                              0                      0.000000\n",
       "Ward_Facility_Code                     0                      0.000000\n",
       "Type of Admission                      0                      0.000000\n",
       "Severity of Illness                    0                      0.000000\n",
       "Visitors with Patient                  0                      0.000000\n",
       "Age                                    0                      0.000000\n",
       "Admission_Deposit                      0                      0.000000\n",
       "Stay                                   0                      0.000000"
      ]
     },
     "execution_count": 19,
     "metadata": {},
     "output_type": "execute_result"
    }
   ],
   "source": [
    "Total = train.isnull().sum().sort_values(ascending=False)          \n",
    "\n",
    "Percent = (train.isnull().sum()*100/train.isnull().count()).sort_values(ascending=False)   \n",
    "\n",
    "missing_data = pd.concat([Total, Percent], axis = 1, keys = ['Total', 'Percentage of Missing Values'])    \n",
    "missing_data"
   ]
  },
  {
   "cell_type": "code",
   "execution_count": 20,
   "id": "6c9b6ee0",
   "metadata": {},
   "outputs": [
    {
     "data": {
      "text/html": [
       "<div>\n",
       "<style scoped>\n",
       "    .dataframe tbody tr th:only-of-type {\n",
       "        vertical-align: middle;\n",
       "    }\n",
       "\n",
       "    .dataframe tbody tr th {\n",
       "        vertical-align: top;\n",
       "    }\n",
       "\n",
       "    .dataframe thead th {\n",
       "        text-align: right;\n",
       "    }\n",
       "</style>\n",
       "<table border=\"1\" class=\"dataframe\">\n",
       "  <thead>\n",
       "    <tr style=\"text-align: right;\">\n",
       "      <th></th>\n",
       "      <th>Total</th>\n",
       "      <th>Percentage of Missing Values</th>\n",
       "    </tr>\n",
       "  </thead>\n",
       "  <tbody>\n",
       "    <tr>\n",
       "      <th>City_Code_Patient</th>\n",
       "      <td>4532</td>\n",
       "      <td>1.423197</td>\n",
       "    </tr>\n",
       "    <tr>\n",
       "      <th>Bed Grade</th>\n",
       "      <td>113</td>\n",
       "      <td>0.035486</td>\n",
       "    </tr>\n",
       "    <tr>\n",
       "      <th>Hospital_code</th>\n",
       "      <td>0</td>\n",
       "      <td>0.000000</td>\n",
       "    </tr>\n",
       "    <tr>\n",
       "      <th>Hospital_type_code</th>\n",
       "      <td>0</td>\n",
       "      <td>0.000000</td>\n",
       "    </tr>\n",
       "    <tr>\n",
       "      <th>City_Code_Hospital</th>\n",
       "      <td>0</td>\n",
       "      <td>0.000000</td>\n",
       "    </tr>\n",
       "    <tr>\n",
       "      <th>Hospital_region_code</th>\n",
       "      <td>0</td>\n",
       "      <td>0.000000</td>\n",
       "    </tr>\n",
       "    <tr>\n",
       "      <th>Available Extra Rooms in Hospital</th>\n",
       "      <td>0</td>\n",
       "      <td>0.000000</td>\n",
       "    </tr>\n",
       "    <tr>\n",
       "      <th>Department</th>\n",
       "      <td>0</td>\n",
       "      <td>0.000000</td>\n",
       "    </tr>\n",
       "    <tr>\n",
       "      <th>Ward_Type</th>\n",
       "      <td>0</td>\n",
       "      <td>0.000000</td>\n",
       "    </tr>\n",
       "    <tr>\n",
       "      <th>Ward_Facility_Code</th>\n",
       "      <td>0</td>\n",
       "      <td>0.000000</td>\n",
       "    </tr>\n",
       "    <tr>\n",
       "      <th>Type of Admission</th>\n",
       "      <td>0</td>\n",
       "      <td>0.000000</td>\n",
       "    </tr>\n",
       "    <tr>\n",
       "      <th>Severity of Illness</th>\n",
       "      <td>0</td>\n",
       "      <td>0.000000</td>\n",
       "    </tr>\n",
       "    <tr>\n",
       "      <th>Visitors with Patient</th>\n",
       "      <td>0</td>\n",
       "      <td>0.000000</td>\n",
       "    </tr>\n",
       "    <tr>\n",
       "      <th>Age</th>\n",
       "      <td>0</td>\n",
       "      <td>0.000000</td>\n",
       "    </tr>\n",
       "    <tr>\n",
       "      <th>Admission_Deposit</th>\n",
       "      <td>0</td>\n",
       "      <td>0.000000</td>\n",
       "    </tr>\n",
       "    <tr>\n",
       "      <th>Stay</th>\n",
       "      <td>0</td>\n",
       "      <td>0.000000</td>\n",
       "    </tr>\n",
       "  </tbody>\n",
       "</table>\n",
       "</div>"
      ],
      "text/plain": [
       "                                   Total  Percentage of Missing Values\n",
       "City_Code_Patient                   4532                      1.423197\n",
       "Bed Grade                            113                      0.035486\n",
       "Hospital_code                          0                      0.000000\n",
       "Hospital_type_code                     0                      0.000000\n",
       "City_Code_Hospital                     0                      0.000000\n",
       "Hospital_region_code                   0                      0.000000\n",
       "Available Extra Rooms in Hospital      0                      0.000000\n",
       "Department                             0                      0.000000\n",
       "Ward_Type                              0                      0.000000\n",
       "Ward_Facility_Code                     0                      0.000000\n",
       "Type of Admission                      0                      0.000000\n",
       "Severity of Illness                    0                      0.000000\n",
       "Visitors with Patient                  0                      0.000000\n",
       "Age                                    0                      0.000000\n",
       "Admission_Deposit                      0                      0.000000\n",
       "Stay                                   0                      0.000000"
      ]
     },
     "execution_count": 20,
     "metadata": {},
     "output_type": "execute_result"
    }
   ],
   "source": [
    "Total = train.isnull().sum().sort_values(ascending=False)          \n",
    "\n",
    "Percent = (train.isnull().sum()*100/train.isnull().count()).sort_values(ascending=False)   \n",
    "\n",
    "missing_data = pd.concat([Total, Percent], axis = 1, keys = ['Total', 'Percentage of Missing Values'])    \n",
    "missing_data"
   ]
  },
  {
   "cell_type": "markdown",
   "id": "8345c545",
   "metadata": {},
   "source": [
    "##### For Test Data"
   ]
  },
  {
   "cell_type": "code",
   "execution_count": 21,
   "id": "8f8210a3",
   "metadata": {},
   "outputs": [
    {
     "data": {
      "text/html": [
       "<div>\n",
       "<style scoped>\n",
       "    .dataframe tbody tr th:only-of-type {\n",
       "        vertical-align: middle;\n",
       "    }\n",
       "\n",
       "    .dataframe tbody tr th {\n",
       "        vertical-align: top;\n",
       "    }\n",
       "\n",
       "    .dataframe thead th {\n",
       "        text-align: right;\n",
       "    }\n",
       "</style>\n",
       "<table border=\"1\" class=\"dataframe\">\n",
       "  <thead>\n",
       "    <tr style=\"text-align: right;\">\n",
       "      <th></th>\n",
       "      <th>Total</th>\n",
       "      <th>Percentage of Missing Values</th>\n",
       "    </tr>\n",
       "  </thead>\n",
       "  <tbody>\n",
       "    <tr>\n",
       "      <th>City_Code_Patient</th>\n",
       "      <td>2157</td>\n",
       "      <td>1.573798</td>\n",
       "    </tr>\n",
       "    <tr>\n",
       "      <th>Bed Grade</th>\n",
       "      <td>35</td>\n",
       "      <td>0.025537</td>\n",
       "    </tr>\n",
       "    <tr>\n",
       "      <th>Hospital_code</th>\n",
       "      <td>0</td>\n",
       "      <td>0.000000</td>\n",
       "    </tr>\n",
       "    <tr>\n",
       "      <th>Hospital_type_code</th>\n",
       "      <td>0</td>\n",
       "      <td>0.000000</td>\n",
       "    </tr>\n",
       "    <tr>\n",
       "      <th>City_Code_Hospital</th>\n",
       "      <td>0</td>\n",
       "      <td>0.000000</td>\n",
       "    </tr>\n",
       "    <tr>\n",
       "      <th>Hospital_region_code</th>\n",
       "      <td>0</td>\n",
       "      <td>0.000000</td>\n",
       "    </tr>\n",
       "    <tr>\n",
       "      <th>Available Extra Rooms in Hospital</th>\n",
       "      <td>0</td>\n",
       "      <td>0.000000</td>\n",
       "    </tr>\n",
       "    <tr>\n",
       "      <th>Department</th>\n",
       "      <td>0</td>\n",
       "      <td>0.000000</td>\n",
       "    </tr>\n",
       "    <tr>\n",
       "      <th>Ward_Type</th>\n",
       "      <td>0</td>\n",
       "      <td>0.000000</td>\n",
       "    </tr>\n",
       "    <tr>\n",
       "      <th>Ward_Facility_Code</th>\n",
       "      <td>0</td>\n",
       "      <td>0.000000</td>\n",
       "    </tr>\n",
       "    <tr>\n",
       "      <th>Type of Admission</th>\n",
       "      <td>0</td>\n",
       "      <td>0.000000</td>\n",
       "    </tr>\n",
       "    <tr>\n",
       "      <th>Severity of Illness</th>\n",
       "      <td>0</td>\n",
       "      <td>0.000000</td>\n",
       "    </tr>\n",
       "    <tr>\n",
       "      <th>Visitors with Patient</th>\n",
       "      <td>0</td>\n",
       "      <td>0.000000</td>\n",
       "    </tr>\n",
       "    <tr>\n",
       "      <th>Age</th>\n",
       "      <td>0</td>\n",
       "      <td>0.000000</td>\n",
       "    </tr>\n",
       "    <tr>\n",
       "      <th>Admission_Deposit</th>\n",
       "      <td>0</td>\n",
       "      <td>0.000000</td>\n",
       "    </tr>\n",
       "  </tbody>\n",
       "</table>\n",
       "</div>"
      ],
      "text/plain": [
       "                                   Total  Percentage of Missing Values\n",
       "City_Code_Patient                   2157                      1.573798\n",
       "Bed Grade                             35                      0.025537\n",
       "Hospital_code                          0                      0.000000\n",
       "Hospital_type_code                     0                      0.000000\n",
       "City_Code_Hospital                     0                      0.000000\n",
       "Hospital_region_code                   0                      0.000000\n",
       "Available Extra Rooms in Hospital      0                      0.000000\n",
       "Department                             0                      0.000000\n",
       "Ward_Type                              0                      0.000000\n",
       "Ward_Facility_Code                     0                      0.000000\n",
       "Type of Admission                      0                      0.000000\n",
       "Severity of Illness                    0                      0.000000\n",
       "Visitors with Patient                  0                      0.000000\n",
       "Age                                    0                      0.000000\n",
       "Admission_Deposit                      0                      0.000000"
      ]
     },
     "execution_count": 21,
     "metadata": {},
     "output_type": "execute_result"
    }
   ],
   "source": [
    "Total = test.isnull().sum().sort_values(ascending=False)          \n",
    "\n",
    "Percent = (test.isnull().sum()*100/test.isnull().count()).sort_values(ascending=False)   \n",
    "\n",
    "missing_data = pd.concat([Total, Percent], axis = 1, keys = ['Total', 'Percentage of Missing Values'])    \n",
    "missing_data"
   ]
  },
  {
   "cell_type": "markdown",
   "id": "4410664b",
   "metadata": {},
   "source": [
    "### Drop unwanted columns"
   ]
  },
  {
   "cell_type": "code",
   "execution_count": 22,
   "id": "6d60997b",
   "metadata": {},
   "outputs": [],
   "source": [
    "train.dropna(subset = ['Bed Grade', 'City_Code_Patient'], inplace = True)"
   ]
  },
  {
   "cell_type": "code",
   "execution_count": 23,
   "id": "c5759a88",
   "metadata": {},
   "outputs": [],
   "source": [
    "test['Bed Grade'] = test['Bed Grade'].fillna(test['Bed Grade'].mode()[0], inplace = True)\n",
    "test['City_Code_Patient'] = test['City_Code_Patient'].fillna(test['City_Code_Patient'].mode()[0], inplace = True)"
   ]
  },
  {
   "cell_type": "code",
   "execution_count": 24,
   "id": "9b12753e",
   "metadata": {},
   "outputs": [
    {
     "data": {
      "text/html": [
       "<div>\n",
       "<style scoped>\n",
       "    .dataframe tbody tr th:only-of-type {\n",
       "        vertical-align: middle;\n",
       "    }\n",
       "\n",
       "    .dataframe tbody tr th {\n",
       "        vertical-align: top;\n",
       "    }\n",
       "\n",
       "    .dataframe thead th {\n",
       "        text-align: right;\n",
       "    }\n",
       "</style>\n",
       "<table border=\"1\" class=\"dataframe\">\n",
       "  <thead>\n",
       "    <tr style=\"text-align: right;\">\n",
       "      <th></th>\n",
       "      <th>Visitors with Patient</th>\n",
       "      <th>Admission_Deposit</th>\n",
       "    </tr>\n",
       "  </thead>\n",
       "  <tbody>\n",
       "    <tr>\n",
       "      <th>0</th>\n",
       "      <td>2</td>\n",
       "      <td>4911.000000</td>\n",
       "    </tr>\n",
       "    <tr>\n",
       "      <th>1</th>\n",
       "      <td>2</td>\n",
       "      <td>5954.000000</td>\n",
       "    </tr>\n",
       "    <tr>\n",
       "      <th>2</th>\n",
       "      <td>2</td>\n",
       "      <td>4745.000000</td>\n",
       "    </tr>\n",
       "    <tr>\n",
       "      <th>3</th>\n",
       "      <td>2</td>\n",
       "      <td>7272.000000</td>\n",
       "    </tr>\n",
       "    <tr>\n",
       "      <th>4</th>\n",
       "      <td>2</td>\n",
       "      <td>5558.000000</td>\n",
       "    </tr>\n",
       "  </tbody>\n",
       "</table>\n",
       "</div>"
      ],
      "text/plain": [
       "   Visitors with Patient  Admission_Deposit\n",
       "0                      2        4911.000000\n",
       "1                      2        5954.000000\n",
       "2                      2        4745.000000\n",
       "3                      2        7272.000000\n",
       "4                      2        5558.000000"
      ]
     },
     "execution_count": 24,
     "metadata": {},
     "output_type": "execute_result"
    }
   ],
   "source": [
    "df_num_train = train.select_dtypes([np.number])\n",
    "df_num_train.head()"
   ]
  },
  {
   "cell_type": "code",
   "execution_count": 25,
   "id": "ed372081",
   "metadata": {},
   "outputs": [
    {
     "data": {
      "text/html": [
       "<div>\n",
       "<style scoped>\n",
       "    .dataframe tbody tr th:only-of-type {\n",
       "        vertical-align: middle;\n",
       "    }\n",
       "\n",
       "    .dataframe tbody tr th {\n",
       "        vertical-align: top;\n",
       "    }\n",
       "\n",
       "    .dataframe thead th {\n",
       "        text-align: right;\n",
       "    }\n",
       "</style>\n",
       "<table border=\"1\" class=\"dataframe\">\n",
       "  <thead>\n",
       "    <tr style=\"text-align: right;\">\n",
       "      <th></th>\n",
       "      <th>Hospital_code</th>\n",
       "      <th>Hospital_type_code</th>\n",
       "      <th>City_Code_Hospital</th>\n",
       "      <th>Hospital_region_code</th>\n",
       "      <th>Available Extra Rooms in Hospital</th>\n",
       "      <th>Department</th>\n",
       "      <th>Ward_Type</th>\n",
       "      <th>Ward_Facility_Code</th>\n",
       "      <th>Bed Grade</th>\n",
       "      <th>City_Code_Patient</th>\n",
       "      <th>Type of Admission</th>\n",
       "      <th>Severity of Illness</th>\n",
       "      <th>Age</th>\n",
       "      <th>Stay</th>\n",
       "    </tr>\n",
       "  </thead>\n",
       "  <tbody>\n",
       "    <tr>\n",
       "      <th>0</th>\n",
       "      <td>8</td>\n",
       "      <td>c</td>\n",
       "      <td>3</td>\n",
       "      <td>Z</td>\n",
       "      <td>3</td>\n",
       "      <td>radiotherapy</td>\n",
       "      <td>R</td>\n",
       "      <td>F</td>\n",
       "      <td>2.000000</td>\n",
       "      <td>7.000000</td>\n",
       "      <td>Emergency</td>\n",
       "      <td>Extreme</td>\n",
       "      <td>51-60</td>\n",
       "      <td>0-10</td>\n",
       "    </tr>\n",
       "    <tr>\n",
       "      <th>1</th>\n",
       "      <td>2</td>\n",
       "      <td>c</td>\n",
       "      <td>5</td>\n",
       "      <td>Z</td>\n",
       "      <td>2</td>\n",
       "      <td>radiotherapy</td>\n",
       "      <td>S</td>\n",
       "      <td>F</td>\n",
       "      <td>2.000000</td>\n",
       "      <td>7.000000</td>\n",
       "      <td>Trauma</td>\n",
       "      <td>Extreme</td>\n",
       "      <td>51-60</td>\n",
       "      <td>41-50</td>\n",
       "    </tr>\n",
       "    <tr>\n",
       "      <th>2</th>\n",
       "      <td>10</td>\n",
       "      <td>e</td>\n",
       "      <td>1</td>\n",
       "      <td>X</td>\n",
       "      <td>2</td>\n",
       "      <td>anesthesia</td>\n",
       "      <td>S</td>\n",
       "      <td>E</td>\n",
       "      <td>2.000000</td>\n",
       "      <td>7.000000</td>\n",
       "      <td>Trauma</td>\n",
       "      <td>Extreme</td>\n",
       "      <td>51-60</td>\n",
       "      <td>31-40</td>\n",
       "    </tr>\n",
       "    <tr>\n",
       "      <th>3</th>\n",
       "      <td>26</td>\n",
       "      <td>b</td>\n",
       "      <td>2</td>\n",
       "      <td>Y</td>\n",
       "      <td>2</td>\n",
       "      <td>radiotherapy</td>\n",
       "      <td>R</td>\n",
       "      <td>D</td>\n",
       "      <td>2.000000</td>\n",
       "      <td>7.000000</td>\n",
       "      <td>Trauma</td>\n",
       "      <td>Extreme</td>\n",
       "      <td>51-60</td>\n",
       "      <td>41-50</td>\n",
       "    </tr>\n",
       "    <tr>\n",
       "      <th>4</th>\n",
       "      <td>26</td>\n",
       "      <td>b</td>\n",
       "      <td>2</td>\n",
       "      <td>Y</td>\n",
       "      <td>2</td>\n",
       "      <td>radiotherapy</td>\n",
       "      <td>S</td>\n",
       "      <td>D</td>\n",
       "      <td>2.000000</td>\n",
       "      <td>7.000000</td>\n",
       "      <td>Trauma</td>\n",
       "      <td>Extreme</td>\n",
       "      <td>51-60</td>\n",
       "      <td>41-50</td>\n",
       "    </tr>\n",
       "  </tbody>\n",
       "</table>\n",
       "</div>"
      ],
      "text/plain": [
       "  Hospital_code Hospital_type_code City_Code_Hospital Hospital_region_code  \\\n",
       "0             8                  c                  3                    Z   \n",
       "1             2                  c                  5                    Z   \n",
       "2            10                  e                  1                    X   \n",
       "3            26                  b                  2                    Y   \n",
       "4            26                  b                  2                    Y   \n",
       "\n",
       "  Available Extra Rooms in Hospital    Department Ward_Type  \\\n",
       "0                                 3  radiotherapy         R   \n",
       "1                                 2  radiotherapy         S   \n",
       "2                                 2    anesthesia         S   \n",
       "3                                 2  radiotherapy         R   \n",
       "4                                 2  radiotherapy         S   \n",
       "\n",
       "  Ward_Facility_Code Bed Grade City_Code_Patient Type of Admission  \\\n",
       "0                  F  2.000000          7.000000         Emergency   \n",
       "1                  F  2.000000          7.000000            Trauma   \n",
       "2                  E  2.000000          7.000000            Trauma   \n",
       "3                  D  2.000000          7.000000            Trauma   \n",
       "4                  D  2.000000          7.000000            Trauma   \n",
       "\n",
       "  Severity of Illness    Age   Stay  \n",
       "0             Extreme  51-60   0-10  \n",
       "1             Extreme  51-60  41-50  \n",
       "2             Extreme  51-60  31-40  \n",
       "3             Extreme  51-60  41-50  \n",
       "4             Extreme  51-60  41-50  "
      ]
     },
     "execution_count": 25,
     "metadata": {},
     "output_type": "execute_result"
    }
   ],
   "source": [
    "df_cat_train = train.select_dtypes([np.object])\n",
    "df_cat_train.head()"
   ]
  },
  {
   "cell_type": "code",
   "execution_count": 26,
   "id": "1752214e",
   "metadata": {},
   "outputs": [
    {
     "data": {
      "text/html": [
       "<div>\n",
       "<style scoped>\n",
       "    .dataframe tbody tr th:only-of-type {\n",
       "        vertical-align: middle;\n",
       "    }\n",
       "\n",
       "    .dataframe tbody tr th {\n",
       "        vertical-align: top;\n",
       "    }\n",
       "\n",
       "    .dataframe thead th {\n",
       "        text-align: right;\n",
       "    }\n",
       "</style>\n",
       "<table border=\"1\" class=\"dataframe\">\n",
       "  <thead>\n",
       "    <tr style=\"text-align: right;\">\n",
       "      <th></th>\n",
       "      <th>Visitors with Patient</th>\n",
       "      <th>Admission_Deposit</th>\n",
       "    </tr>\n",
       "  </thead>\n",
       "  <tbody>\n",
       "    <tr>\n",
       "      <th>0</th>\n",
       "      <td>2</td>\n",
       "      <td>3095.000000</td>\n",
       "    </tr>\n",
       "    <tr>\n",
       "      <th>1</th>\n",
       "      <td>4</td>\n",
       "      <td>4018.000000</td>\n",
       "    </tr>\n",
       "    <tr>\n",
       "      <th>2</th>\n",
       "      <td>3</td>\n",
       "      <td>4492.000000</td>\n",
       "    </tr>\n",
       "    <tr>\n",
       "      <th>3</th>\n",
       "      <td>3</td>\n",
       "      <td>4173.000000</td>\n",
       "    </tr>\n",
       "    <tr>\n",
       "      <th>4</th>\n",
       "      <td>4</td>\n",
       "      <td>4161.000000</td>\n",
       "    </tr>\n",
       "  </tbody>\n",
       "</table>\n",
       "</div>"
      ],
      "text/plain": [
       "   Visitors with Patient  Admission_Deposit\n",
       "0                      2        3095.000000\n",
       "1                      4        4018.000000\n",
       "2                      3        4492.000000\n",
       "3                      3        4173.000000\n",
       "4                      4        4161.000000"
      ]
     },
     "execution_count": 26,
     "metadata": {},
     "output_type": "execute_result"
    }
   ],
   "source": [
    "df_num_test = test.select_dtypes([np.number])\n",
    "df_num_test.head()"
   ]
  },
  {
   "cell_type": "code",
   "execution_count": 27,
   "id": "bdeb3edb",
   "metadata": {},
   "outputs": [
    {
     "data": {
      "text/html": [
       "<div>\n",
       "<style scoped>\n",
       "    .dataframe tbody tr th:only-of-type {\n",
       "        vertical-align: middle;\n",
       "    }\n",
       "\n",
       "    .dataframe tbody tr th {\n",
       "        vertical-align: top;\n",
       "    }\n",
       "\n",
       "    .dataframe thead th {\n",
       "        text-align: right;\n",
       "    }\n",
       "</style>\n",
       "<table border=\"1\" class=\"dataframe\">\n",
       "  <thead>\n",
       "    <tr style=\"text-align: right;\">\n",
       "      <th></th>\n",
       "      <th>Hospital_code</th>\n",
       "      <th>Hospital_type_code</th>\n",
       "      <th>City_Code_Hospital</th>\n",
       "      <th>Hospital_region_code</th>\n",
       "      <th>Available Extra Rooms in Hospital</th>\n",
       "      <th>Department</th>\n",
       "      <th>Ward_Type</th>\n",
       "      <th>Ward_Facility_Code</th>\n",
       "      <th>Bed Grade</th>\n",
       "      <th>City_Code_Patient</th>\n",
       "      <th>Type of Admission</th>\n",
       "      <th>Severity of Illness</th>\n",
       "      <th>Age</th>\n",
       "    </tr>\n",
       "  </thead>\n",
       "  <tbody>\n",
       "    <tr>\n",
       "      <th>0</th>\n",
       "      <td>21</td>\n",
       "      <td>c</td>\n",
       "      <td>3</td>\n",
       "      <td>Z</td>\n",
       "      <td>3</td>\n",
       "      <td>gynecology</td>\n",
       "      <td>S</td>\n",
       "      <td>A</td>\n",
       "      <td>None</td>\n",
       "      <td>None</td>\n",
       "      <td>Emergency</td>\n",
       "      <td>Moderate</td>\n",
       "      <td>71-80</td>\n",
       "    </tr>\n",
       "    <tr>\n",
       "      <th>1</th>\n",
       "      <td>29</td>\n",
       "      <td>a</td>\n",
       "      <td>4</td>\n",
       "      <td>X</td>\n",
       "      <td>2</td>\n",
       "      <td>gynecology</td>\n",
       "      <td>S</td>\n",
       "      <td>F</td>\n",
       "      <td>None</td>\n",
       "      <td>None</td>\n",
       "      <td>Trauma</td>\n",
       "      <td>Moderate</td>\n",
       "      <td>71-80</td>\n",
       "    </tr>\n",
       "    <tr>\n",
       "      <th>2</th>\n",
       "      <td>26</td>\n",
       "      <td>b</td>\n",
       "      <td>2</td>\n",
       "      <td>Y</td>\n",
       "      <td>3</td>\n",
       "      <td>gynecology</td>\n",
       "      <td>Q</td>\n",
       "      <td>D</td>\n",
       "      <td>None</td>\n",
       "      <td>None</td>\n",
       "      <td>Emergency</td>\n",
       "      <td>Moderate</td>\n",
       "      <td>71-80</td>\n",
       "    </tr>\n",
       "    <tr>\n",
       "      <th>3</th>\n",
       "      <td>6</td>\n",
       "      <td>a</td>\n",
       "      <td>6</td>\n",
       "      <td>X</td>\n",
       "      <td>3</td>\n",
       "      <td>gynecology</td>\n",
       "      <td>Q</td>\n",
       "      <td>F</td>\n",
       "      <td>None</td>\n",
       "      <td>None</td>\n",
       "      <td>Trauma</td>\n",
       "      <td>Moderate</td>\n",
       "      <td>71-80</td>\n",
       "    </tr>\n",
       "    <tr>\n",
       "      <th>4</th>\n",
       "      <td>28</td>\n",
       "      <td>b</td>\n",
       "      <td>11</td>\n",
       "      <td>X</td>\n",
       "      <td>2</td>\n",
       "      <td>gynecology</td>\n",
       "      <td>R</td>\n",
       "      <td>F</td>\n",
       "      <td>None</td>\n",
       "      <td>None</td>\n",
       "      <td>Trauma</td>\n",
       "      <td>Moderate</td>\n",
       "      <td>71-80</td>\n",
       "    </tr>\n",
       "  </tbody>\n",
       "</table>\n",
       "</div>"
      ],
      "text/plain": [
       "  Hospital_code Hospital_type_code City_Code_Hospital Hospital_region_code  \\\n",
       "0            21                  c                  3                    Z   \n",
       "1            29                  a                  4                    X   \n",
       "2            26                  b                  2                    Y   \n",
       "3             6                  a                  6                    X   \n",
       "4            28                  b                 11                    X   \n",
       "\n",
       "  Available Extra Rooms in Hospital  Department Ward_Type Ward_Facility_Code  \\\n",
       "0                                 3  gynecology         S                  A   \n",
       "1                                 2  gynecology         S                  F   \n",
       "2                                 3  gynecology         Q                  D   \n",
       "3                                 3  gynecology         Q                  F   \n",
       "4                                 2  gynecology         R                  F   \n",
       "\n",
       "  Bed Grade City_Code_Patient Type of Admission Severity of Illness    Age  \n",
       "0      None              None         Emergency            Moderate  71-80  \n",
       "1      None              None            Trauma            Moderate  71-80  \n",
       "2      None              None         Emergency            Moderate  71-80  \n",
       "3      None              None            Trauma            Moderate  71-80  \n",
       "4      None              None            Trauma            Moderate  71-80  "
      ]
     },
     "execution_count": 27,
     "metadata": {},
     "output_type": "execute_result"
    }
   ],
   "source": [
    "df_cat_test = test.select_dtypes([np.object])\n",
    "df_cat_test.head()"
   ]
  },
  {
   "cell_type": "markdown",
   "id": "637fb2b4",
   "metadata": {},
   "source": [
    "### Encoding"
   ]
  },
  {
   "cell_type": "markdown",
   "id": "313dae1b",
   "metadata": {},
   "source": [
    "##### Ordinal Data"
   ]
  },
  {
   "cell_type": "code",
   "execution_count": 28,
   "id": "3f544a8d",
   "metadata": {},
   "outputs": [],
   "source": [
    "admission_encode  = {'Trauma': 1, 'Urgent': 2, 'Emergency' : 3 }\n",
    "severity_encode   = {'Minor': 1, 'Moderate': 2, 'Extreme': 3 }\n",
    "\n",
    "\n",
    "df_cat_train['Type of Admission']  =  df_cat_train['Type of Admission'].map (admission_encode)\n",
    "df_cat_train['Severity of Illness']  =  df_cat_train['Severity of Illness'].map (severity_encode)\n",
    "\n",
    "df_cat_test['Type of Admission']  =  df_cat_test['Type of Admission'].map (admission_encode)\n",
    "df_cat_test['Severity of Illness']  =  df_cat_test['Severity of Illness'].map (severity_encode)"
   ]
  },
  {
   "cell_type": "code",
   "execution_count": 29,
   "id": "f8a19d39",
   "metadata": {},
   "outputs": [],
   "source": [
    "df_cat_train['Stay']= df_cat_train['Stay'].replace({'0-10':1, '11-20':2, '21-30':3, '31-40':4, '41-50':5, '51-60':6,'61-70':7,\n",
    "                                      '71-80':8,'81-90':9,'91-100':10,'100+':11})\n",
    "\n",
    "df_cat_train['Age']= df_cat_train['Age'].replace({'0-10':1, '11-20':2, '21-30':3, '31-40':4, '41-50':5, '51-60':6,'61-70':7,\n",
    "                                      '71-80':8,'81-90':9,'91-100':10})\n",
    "\n",
    "df_cat_test['Age']= df_cat_test['Age'].replace({'0-10':1, '11-20':2, '21-30':3, '31-40':4, '41-50':5, '51-60':6,'61-70':7,\n",
    "                                      '71-80':8,'81-90':9,'91-100':10})"
   ]
  },
  {
   "cell_type": "code",
   "execution_count": 30,
   "id": "99611cfb",
   "metadata": {},
   "outputs": [],
   "source": [
    "df_cat_train['Stay']=df_cat_train['Stay'].astype(int)"
   ]
  },
  {
   "cell_type": "markdown",
   "id": "392631fd",
   "metadata": {},
   "source": [
    "##### Nominal Data"
   ]
  },
  {
   "cell_type": "markdown",
   "id": "ec956ce5",
   "metadata": {},
   "source": [
    "##### For Train Data"
   ]
  },
  {
   "cell_type": "code",
   "execution_count": 31,
   "id": "852730d2",
   "metadata": {},
   "outputs": [
    {
     "data": {
      "text/html": [
       "<div>\n",
       "<style scoped>\n",
       "    .dataframe tbody tr th:only-of-type {\n",
       "        vertical-align: middle;\n",
       "    }\n",
       "\n",
       "    .dataframe tbody tr th {\n",
       "        vertical-align: top;\n",
       "    }\n",
       "\n",
       "    .dataframe thead th {\n",
       "        text-align: right;\n",
       "    }\n",
       "</style>\n",
       "<table border=\"1\" class=\"dataframe\">\n",
       "  <thead>\n",
       "    <tr style=\"text-align: right;\">\n",
       "      <th></th>\n",
       "      <th>Hospital_code</th>\n",
       "      <th>Hospital_type_code</th>\n",
       "      <th>City_Code_Hospital</th>\n",
       "      <th>Hospital_region_code</th>\n",
       "      <th>Available Extra Rooms in Hospital</th>\n",
       "      <th>Department</th>\n",
       "      <th>Ward_Type</th>\n",
       "      <th>Ward_Facility_Code</th>\n",
       "      <th>Bed Grade</th>\n",
       "      <th>City_Code_Patient</th>\n",
       "      <th>Type of Admission</th>\n",
       "      <th>Severity of Illness</th>\n",
       "      <th>Age</th>\n",
       "      <th>Stay</th>\n",
       "    </tr>\n",
       "  </thead>\n",
       "  <tbody>\n",
       "    <tr>\n",
       "      <th>0</th>\n",
       "      <td>7</td>\n",
       "      <td>2</td>\n",
       "      <td>2</td>\n",
       "      <td>2</td>\n",
       "      <td>3</td>\n",
       "      <td>3</td>\n",
       "      <td>2</td>\n",
       "      <td>5</td>\n",
       "      <td>1</td>\n",
       "      <td>6</td>\n",
       "      <td>3</td>\n",
       "      <td>3</td>\n",
       "      <td>6</td>\n",
       "      <td>1</td>\n",
       "    </tr>\n",
       "    <tr>\n",
       "      <th>1</th>\n",
       "      <td>1</td>\n",
       "      <td>2</td>\n",
       "      <td>4</td>\n",
       "      <td>2</td>\n",
       "      <td>2</td>\n",
       "      <td>3</td>\n",
       "      <td>3</td>\n",
       "      <td>5</td>\n",
       "      <td>1</td>\n",
       "      <td>6</td>\n",
       "      <td>1</td>\n",
       "      <td>3</td>\n",
       "      <td>6</td>\n",
       "      <td>5</td>\n",
       "    </tr>\n",
       "    <tr>\n",
       "      <th>2</th>\n",
       "      <td>9</td>\n",
       "      <td>4</td>\n",
       "      <td>0</td>\n",
       "      <td>0</td>\n",
       "      <td>2</td>\n",
       "      <td>1</td>\n",
       "      <td>3</td>\n",
       "      <td>4</td>\n",
       "      <td>1</td>\n",
       "      <td>6</td>\n",
       "      <td>1</td>\n",
       "      <td>3</td>\n",
       "      <td>6</td>\n",
       "      <td>4</td>\n",
       "    </tr>\n",
       "    <tr>\n",
       "      <th>3</th>\n",
       "      <td>25</td>\n",
       "      <td>1</td>\n",
       "      <td>1</td>\n",
       "      <td>1</td>\n",
       "      <td>2</td>\n",
       "      <td>3</td>\n",
       "      <td>2</td>\n",
       "      <td>3</td>\n",
       "      <td>1</td>\n",
       "      <td>6</td>\n",
       "      <td>1</td>\n",
       "      <td>3</td>\n",
       "      <td>6</td>\n",
       "      <td>5</td>\n",
       "    </tr>\n",
       "    <tr>\n",
       "      <th>4</th>\n",
       "      <td>25</td>\n",
       "      <td>1</td>\n",
       "      <td>1</td>\n",
       "      <td>1</td>\n",
       "      <td>2</td>\n",
       "      <td>3</td>\n",
       "      <td>3</td>\n",
       "      <td>3</td>\n",
       "      <td>1</td>\n",
       "      <td>6</td>\n",
       "      <td>1</td>\n",
       "      <td>3</td>\n",
       "      <td>6</td>\n",
       "      <td>5</td>\n",
       "    </tr>\n",
       "  </tbody>\n",
       "</table>\n",
       "</div>"
      ],
      "text/plain": [
       "   Hospital_code  Hospital_type_code  City_Code_Hospital  \\\n",
       "0              7                   2                   2   \n",
       "1              1                   2                   4   \n",
       "2              9                   4                   0   \n",
       "3             25                   1                   1   \n",
       "4             25                   1                   1   \n",
       "\n",
       "   Hospital_region_code Available Extra Rooms in Hospital  Department  \\\n",
       "0                     2                                 3           3   \n",
       "1                     2                                 2           3   \n",
       "2                     0                                 2           1   \n",
       "3                     1                                 2           3   \n",
       "4                     1                                 2           3   \n",
       "\n",
       "   Ward_Type  Ward_Facility_Code  Bed Grade  City_Code_Patient  \\\n",
       "0          2                   5          1                  6   \n",
       "1          3                   5          1                  6   \n",
       "2          3                   4          1                  6   \n",
       "3          2                   3          1                  6   \n",
       "4          3                   3          1                  6   \n",
       "\n",
       "   Type of Admission  Severity of Illness  Age  Stay  \n",
       "0                  3                    3    6     1  \n",
       "1                  1                    3    6     5  \n",
       "2                  1                    3    6     4  \n",
       "3                  1                    3    6     5  \n",
       "4                  1                    3    6     5  "
      ]
     },
     "execution_count": 31,
     "metadata": {},
     "output_type": "execute_result"
    }
   ],
   "source": [
    "from sklearn.preprocessing import LabelEncoder\n",
    "LE=LabelEncoder()\n",
    "\n",
    "df_cat_train['Hospital_code']=LE.fit_transform(df_cat_train['Hospital_code'])\n",
    "df_cat_train['Hospital_type_code']=LE.fit_transform(df_cat_train['Hospital_type_code'])\n",
    "df_cat_train['City_Code_Hospital']=LE.fit_transform(df_cat_train['City_Code_Hospital'])\n",
    "df_cat_train['Hospital_region_code']=LE.fit_transform(df_cat_train['Hospital_region_code'])\n",
    "df_cat_train['Department']=LE.fit_transform(df_cat_train['Department'])\n",
    "df_cat_train['Ward_Type']=LE.fit_transform(df_cat_train['Ward_Type'])\n",
    "df_cat_train['Ward_Facility_Code']=LE.fit_transform(df_cat_train['Ward_Facility_Code'])\n",
    "df_cat_train['City_Code_Patient']=LE.fit_transform(df_cat_train['City_Code_Patient'])\n",
    "df_cat_train['Bed Grade']=LE.fit_transform(df_cat_train['Bed Grade'])\n",
    "\n",
    "df_cat_train.head()"
   ]
  },
  {
   "cell_type": "markdown",
   "id": "01c703cc",
   "metadata": {},
   "source": [
    "##### For Test Data"
   ]
  },
  {
   "cell_type": "code",
   "execution_count": 32,
   "id": "c27293f5",
   "metadata": {},
   "outputs": [
    {
     "data": {
      "text/html": [
       "<div>\n",
       "<style scoped>\n",
       "    .dataframe tbody tr th:only-of-type {\n",
       "        vertical-align: middle;\n",
       "    }\n",
       "\n",
       "    .dataframe tbody tr th {\n",
       "        vertical-align: top;\n",
       "    }\n",
       "\n",
       "    .dataframe thead th {\n",
       "        text-align: right;\n",
       "    }\n",
       "</style>\n",
       "<table border=\"1\" class=\"dataframe\">\n",
       "  <thead>\n",
       "    <tr style=\"text-align: right;\">\n",
       "      <th></th>\n",
       "      <th>Hospital_code</th>\n",
       "      <th>Hospital_type_code</th>\n",
       "      <th>City_Code_Hospital</th>\n",
       "      <th>Hospital_region_code</th>\n",
       "      <th>Available Extra Rooms in Hospital</th>\n",
       "      <th>Department</th>\n",
       "      <th>Ward_Type</th>\n",
       "      <th>Ward_Facility_Code</th>\n",
       "      <th>Bed Grade</th>\n",
       "      <th>City_Code_Patient</th>\n",
       "      <th>Type of Admission</th>\n",
       "      <th>Severity of Illness</th>\n",
       "      <th>Age</th>\n",
       "    </tr>\n",
       "  </thead>\n",
       "  <tbody>\n",
       "    <tr>\n",
       "      <th>0</th>\n",
       "      <td>20</td>\n",
       "      <td>2</td>\n",
       "      <td>2</td>\n",
       "      <td>2</td>\n",
       "      <td>3</td>\n",
       "      <td>2</td>\n",
       "      <td>3</td>\n",
       "      <td>0</td>\n",
       "      <td>0</td>\n",
       "      <td>0</td>\n",
       "      <td>3</td>\n",
       "      <td>2</td>\n",
       "      <td>8</td>\n",
       "    </tr>\n",
       "    <tr>\n",
       "      <th>1</th>\n",
       "      <td>28</td>\n",
       "      <td>0</td>\n",
       "      <td>3</td>\n",
       "      <td>0</td>\n",
       "      <td>2</td>\n",
       "      <td>2</td>\n",
       "      <td>3</td>\n",
       "      <td>5</td>\n",
       "      <td>0</td>\n",
       "      <td>0</td>\n",
       "      <td>1</td>\n",
       "      <td>2</td>\n",
       "      <td>8</td>\n",
       "    </tr>\n",
       "    <tr>\n",
       "      <th>2</th>\n",
       "      <td>25</td>\n",
       "      <td>1</td>\n",
       "      <td>1</td>\n",
       "      <td>1</td>\n",
       "      <td>3</td>\n",
       "      <td>2</td>\n",
       "      <td>1</td>\n",
       "      <td>3</td>\n",
       "      <td>0</td>\n",
       "      <td>0</td>\n",
       "      <td>3</td>\n",
       "      <td>2</td>\n",
       "      <td>8</td>\n",
       "    </tr>\n",
       "    <tr>\n",
       "      <th>3</th>\n",
       "      <td>5</td>\n",
       "      <td>0</td>\n",
       "      <td>5</td>\n",
       "      <td>0</td>\n",
       "      <td>3</td>\n",
       "      <td>2</td>\n",
       "      <td>1</td>\n",
       "      <td>5</td>\n",
       "      <td>0</td>\n",
       "      <td>0</td>\n",
       "      <td>1</td>\n",
       "      <td>2</td>\n",
       "      <td>8</td>\n",
       "    </tr>\n",
       "    <tr>\n",
       "      <th>4</th>\n",
       "      <td>27</td>\n",
       "      <td>1</td>\n",
       "      <td>9</td>\n",
       "      <td>0</td>\n",
       "      <td>2</td>\n",
       "      <td>2</td>\n",
       "      <td>2</td>\n",
       "      <td>5</td>\n",
       "      <td>0</td>\n",
       "      <td>0</td>\n",
       "      <td>1</td>\n",
       "      <td>2</td>\n",
       "      <td>8</td>\n",
       "    </tr>\n",
       "  </tbody>\n",
       "</table>\n",
       "</div>"
      ],
      "text/plain": [
       "   Hospital_code  Hospital_type_code  City_Code_Hospital  \\\n",
       "0             20                   2                   2   \n",
       "1             28                   0                   3   \n",
       "2             25                   1                   1   \n",
       "3              5                   0                   5   \n",
       "4             27                   1                   9   \n",
       "\n",
       "   Hospital_region_code Available Extra Rooms in Hospital  Department  \\\n",
       "0                     2                                 3           2   \n",
       "1                     0                                 2           2   \n",
       "2                     1                                 3           2   \n",
       "3                     0                                 3           2   \n",
       "4                     0                                 2           2   \n",
       "\n",
       "   Ward_Type  Ward_Facility_Code  Bed Grade  City_Code_Patient  \\\n",
       "0          3                   0          0                  0   \n",
       "1          3                   5          0                  0   \n",
       "2          1                   3          0                  0   \n",
       "3          1                   5          0                  0   \n",
       "4          2                   5          0                  0   \n",
       "\n",
       "   Type of Admission  Severity of Illness  Age  \n",
       "0                  3                    2    8  \n",
       "1                  1                    2    8  \n",
       "2                  3                    2    8  \n",
       "3                  1                    2    8  \n",
       "4                  1                    2    8  "
      ]
     },
     "execution_count": 32,
     "metadata": {},
     "output_type": "execute_result"
    }
   ],
   "source": [
    "from sklearn.preprocessing import LabelEncoder\n",
    "LE=LabelEncoder()\n",
    "\n",
    "df_cat_test['Hospital_code']=LE.fit_transform(df_cat_test['Hospital_code'])\n",
    "df_cat_test['Hospital_type_code']=LE.fit_transform(df_cat_test['Hospital_type_code'])\n",
    "df_cat_test['City_Code_Hospital']=LE.fit_transform(df_cat_test['City_Code_Hospital'])\n",
    "df_cat_test['Hospital_region_code']=LE.fit_transform(df_cat_test['Hospital_region_code'])\n",
    "df_cat_test['Department']=LE.fit_transform(df_cat_test['Department'])\n",
    "df_cat_test['Ward_Type']=LE.fit_transform(df_cat_test['Ward_Type'])\n",
    "df_cat_test['Ward_Facility_Code']=LE.fit_transform(df_cat_test['Ward_Facility_Code'])\n",
    "df_cat_test['City_Code_Patient']=LE.fit_transform(df_cat_test['City_Code_Patient'])\n",
    "df_cat_test['Bed Grade']=LE.fit_transform(df_cat_test['Bed Grade'])\n",
    "\n",
    "df_cat_test.head()"
   ]
  },
  {
   "cell_type": "markdown",
   "id": "63a769c7",
   "metadata": {},
   "source": [
    "### Scale the Data"
   ]
  },
  {
   "cell_type": "code",
   "execution_count": 33,
   "id": "53b4a00c",
   "metadata": {},
   "outputs": [],
   "source": [
    "from sklearn.preprocessing import StandardScaler\n",
    "# For training Data\n",
    "sc = StandardScaler()\n",
    "\n",
    "num_scaled = sc.fit_transform(df_num_train)\n",
    "\n",
    "df_num_scaled = pd.DataFrame(num_scaled, columns = df_num_train.columns)"
   ]
  },
  {
   "cell_type": "code",
   "execution_count": 34,
   "id": "76e5fa2c",
   "metadata": {},
   "outputs": [],
   "source": [
    "# For test Data\n",
    "\n",
    "num_scaled_test = sc.fit_transform(df_num_test)\n",
    "\n",
    "df_num_scaled_test = pd.DataFrame(num_scaled_test, columns = df_num_test.columns)"
   ]
  },
  {
   "cell_type": "code",
   "execution_count": 35,
   "id": "342c1326",
   "metadata": {},
   "outputs": [
    {
     "data": {
      "text/plain": [
       "(313793, 2)"
      ]
     },
     "execution_count": 35,
     "metadata": {},
     "output_type": "execute_result"
    }
   ],
   "source": [
    "df_num_scaled.shape"
   ]
  },
  {
   "cell_type": "code",
   "execution_count": 36,
   "id": "7be7af83",
   "metadata": {},
   "outputs": [],
   "source": [
    "df_cat_train = df_cat_train.reset_index(drop=True)"
   ]
  },
  {
   "cell_type": "code",
   "execution_count": 37,
   "id": "2c5aa678",
   "metadata": {},
   "outputs": [],
   "source": [
    "df_num_scaled = df_num_scaled.reset_index(drop=True)"
   ]
  },
  {
   "cell_type": "code",
   "execution_count": 38,
   "id": "76477549",
   "metadata": {},
   "outputs": [],
   "source": [
    "df_cat_test = df_cat_test.reset_index(drop=True)\n",
    "df_num_scaled_test = df_num_scaled_test.reset_index(drop=True)"
   ]
  },
  {
   "cell_type": "code",
   "execution_count": 39,
   "id": "9b9b46e7",
   "metadata": {},
   "outputs": [
    {
     "data": {
      "text/plain": [
       "(313793, 14)"
      ]
     },
     "execution_count": 39,
     "metadata": {},
     "output_type": "execute_result"
    }
   ],
   "source": [
    "df_cat_train.shape"
   ]
  },
  {
   "cell_type": "code",
   "execution_count": 40,
   "id": "20a10511",
   "metadata": {},
   "outputs": [],
   "source": [
    "df_full = pd.concat([df_num_scaled, df_cat_train],axis=1)\n",
    "df_full_test =  pd.concat([df_num_scaled_test, df_cat_test],axis=1)"
   ]
  },
  {
   "cell_type": "code",
   "execution_count": 41,
   "id": "1f2fccd5",
   "metadata": {},
   "outputs": [
    {
     "data": {
      "text/plain": [
       "(313793, 16)"
      ]
     },
     "execution_count": 41,
     "metadata": {},
     "output_type": "execute_result"
    }
   ],
   "source": [
    "df_full.shape"
   ]
  },
  {
   "cell_type": "code",
   "execution_count": 42,
   "id": "95f89c65",
   "metadata": {},
   "outputs": [
    {
     "data": {
      "text/html": [
       "<div>\n",
       "<style scoped>\n",
       "    .dataframe tbody tr th:only-of-type {\n",
       "        vertical-align: middle;\n",
       "    }\n",
       "\n",
       "    .dataframe tbody tr th {\n",
       "        vertical-align: top;\n",
       "    }\n",
       "\n",
       "    .dataframe thead th {\n",
       "        text-align: right;\n",
       "    }\n",
       "</style>\n",
       "<table border=\"1\" class=\"dataframe\">\n",
       "  <thead>\n",
       "    <tr style=\"text-align: right;\">\n",
       "      <th></th>\n",
       "      <th>Visitors with Patient</th>\n",
       "      <th>Admission_Deposit</th>\n",
       "      <th>Hospital_code</th>\n",
       "      <th>Hospital_type_code</th>\n",
       "      <th>City_Code_Hospital</th>\n",
       "      <th>Hospital_region_code</th>\n",
       "      <th>Available Extra Rooms in Hospital</th>\n",
       "      <th>Department</th>\n",
       "      <th>Ward_Type</th>\n",
       "      <th>Ward_Facility_Code</th>\n",
       "      <th>Bed Grade</th>\n",
       "      <th>City_Code_Patient</th>\n",
       "      <th>Type of Admission</th>\n",
       "      <th>Severity of Illness</th>\n",
       "      <th>Age</th>\n",
       "      <th>Stay</th>\n",
       "    </tr>\n",
       "  </thead>\n",
       "  <tbody>\n",
       "    <tr>\n",
       "      <th>0</th>\n",
       "      <td>-0.727035</td>\n",
       "      <td>0.026796</td>\n",
       "      <td>7</td>\n",
       "      <td>2</td>\n",
       "      <td>2</td>\n",
       "      <td>2</td>\n",
       "      <td>3</td>\n",
       "      <td>3</td>\n",
       "      <td>2</td>\n",
       "      <td>5</td>\n",
       "      <td>1</td>\n",
       "      <td>6</td>\n",
       "      <td>3</td>\n",
       "      <td>3</td>\n",
       "      <td>6</td>\n",
       "      <td>1</td>\n",
       "    </tr>\n",
       "    <tr>\n",
       "      <th>1</th>\n",
       "      <td>-0.727035</td>\n",
       "      <td>0.986987</td>\n",
       "      <td>1</td>\n",
       "      <td>2</td>\n",
       "      <td>4</td>\n",
       "      <td>2</td>\n",
       "      <td>2</td>\n",
       "      <td>3</td>\n",
       "      <td>3</td>\n",
       "      <td>5</td>\n",
       "      <td>1</td>\n",
       "      <td>6</td>\n",
       "      <td>1</td>\n",
       "      <td>3</td>\n",
       "      <td>6</td>\n",
       "      <td>5</td>\n",
       "    </tr>\n",
       "    <tr>\n",
       "      <th>2</th>\n",
       "      <td>-0.727035</td>\n",
       "      <td>-0.126025</td>\n",
       "      <td>9</td>\n",
       "      <td>4</td>\n",
       "      <td>0</td>\n",
       "      <td>0</td>\n",
       "      <td>2</td>\n",
       "      <td>1</td>\n",
       "      <td>3</td>\n",
       "      <td>4</td>\n",
       "      <td>1</td>\n",
       "      <td>6</td>\n",
       "      <td>1</td>\n",
       "      <td>3</td>\n",
       "      <td>6</td>\n",
       "      <td>4</td>\n",
       "    </tr>\n",
       "    <tr>\n",
       "      <th>3</th>\n",
       "      <td>-0.727035</td>\n",
       "      <td>2.200344</td>\n",
       "      <td>25</td>\n",
       "      <td>1</td>\n",
       "      <td>1</td>\n",
       "      <td>1</td>\n",
       "      <td>2</td>\n",
       "      <td>3</td>\n",
       "      <td>2</td>\n",
       "      <td>3</td>\n",
       "      <td>1</td>\n",
       "      <td>6</td>\n",
       "      <td>1</td>\n",
       "      <td>3</td>\n",
       "      <td>6</td>\n",
       "      <td>5</td>\n",
       "    </tr>\n",
       "    <tr>\n",
       "      <th>4</th>\n",
       "      <td>-0.727035</td>\n",
       "      <td>0.622427</td>\n",
       "      <td>25</td>\n",
       "      <td>1</td>\n",
       "      <td>1</td>\n",
       "      <td>1</td>\n",
       "      <td>2</td>\n",
       "      <td>3</td>\n",
       "      <td>3</td>\n",
       "      <td>3</td>\n",
       "      <td>1</td>\n",
       "      <td>6</td>\n",
       "      <td>1</td>\n",
       "      <td>3</td>\n",
       "      <td>6</td>\n",
       "      <td>5</td>\n",
       "    </tr>\n",
       "  </tbody>\n",
       "</table>\n",
       "</div>"
      ],
      "text/plain": [
       "   Visitors with Patient  Admission_Deposit  Hospital_code  \\\n",
       "0              -0.727035           0.026796              7   \n",
       "1              -0.727035           0.986987              1   \n",
       "2              -0.727035          -0.126025              9   \n",
       "3              -0.727035           2.200344             25   \n",
       "4              -0.727035           0.622427             25   \n",
       "\n",
       "   Hospital_type_code  City_Code_Hospital  Hospital_region_code  \\\n",
       "0                   2                   2                     2   \n",
       "1                   2                   4                     2   \n",
       "2                   4                   0                     0   \n",
       "3                   1                   1                     1   \n",
       "4                   1                   1                     1   \n",
       "\n",
       "  Available Extra Rooms in Hospital  Department  Ward_Type  \\\n",
       "0                                 3           3          2   \n",
       "1                                 2           3          3   \n",
       "2                                 2           1          3   \n",
       "3                                 2           3          2   \n",
       "4                                 2           3          3   \n",
       "\n",
       "   Ward_Facility_Code  Bed Grade  City_Code_Patient  Type of Admission  \\\n",
       "0                   5          1                  6                  3   \n",
       "1                   5          1                  6                  1   \n",
       "2                   4          1                  6                  1   \n",
       "3                   3          1                  6                  1   \n",
       "4                   3          1                  6                  1   \n",
       "\n",
       "   Severity of Illness  Age  Stay  \n",
       "0                    3    6     1  \n",
       "1                    3    6     5  \n",
       "2                    3    6     4  \n",
       "3                    3    6     5  \n",
       "4                    3    6     5  "
      ]
     },
     "execution_count": 42,
     "metadata": {},
     "output_type": "execute_result"
    }
   ],
   "source": [
    "df_full.head()"
   ]
  },
  {
   "cell_type": "code",
   "execution_count": 43,
   "id": "83b64487",
   "metadata": {},
   "outputs": [
    {
     "data": {
      "text/plain": [
       "<AxesSubplot:>"
      ]
     },
     "execution_count": 43,
     "metadata": {},
     "output_type": "execute_result"
    },
    {
     "data": {
      "image/png": "[encoded data removed]",
      "text/plain": [
       "<Figure size 1080x576 with 2 Axes>"
      ]
     },
     "metadata": {
      "needs_background": "light"
     },
     "output_type": "display_data"
    }
   ],
   "source": [
    "sns.heatmap(df_full.corr(), annot = True)"
   ]
  },
  {
   "cell_type": "markdown",
   "id": "2e38c76c",
   "metadata": {},
   "source": [
    "### Train Test Split"
   ]
  },
  {
   "cell_type": "code",
   "execution_count": 45,
   "id": "8ded4409",
   "metadata": {},
   "outputs": [],
   "source": [
    "X = df_full.drop('Stay',axis=1)\n",
    "y = df_full['Stay']"
   ]
  },
  {
   "cell_type": "code",
   "execution_count": 46,
   "id": "90294192",
   "metadata": {},
   "outputs": [
    {
     "name": "stdout",
     "output_type": "stream",
     "text": [
      "X_train (219655, 16)\n",
      "y_train (219655,)\n",
      "X_test (94138, 16)\n",
      "y_test (94138,)\n"
     ]
    }
   ],
   "source": [
    "X = sm.add_constant(X)\n",
    "\n",
    "X_train, X_test, y_train, y_test = train_test_split(X, y, random_state = 10, test_size = 0.3)\n",
    "\n",
    "print('X_train', X_train.shape)\n",
    "print('y_train', y_train.shape)\n",
    "\n",
    "print('X_test', X_test.shape)\n",
    "print('y_test', y_test.shape)"
   ]
  },
  {
   "cell_type": "markdown",
   "id": "4fca9cef",
   "metadata": {},
   "source": [
    "### K Fold Cross Validation"
   ]
  },
  {
   "cell_type": "code",
   "execution_count": 47,
   "id": "a3f29adb",
   "metadata": {},
   "outputs": [],
   "source": [
    "from sklearn.model_selection import KFold,cross_val_score\n",
    "kfold=KFold(n_splits=10, shuffle=True, random_state=10)   "
   ]
  },
  {
   "cell_type": "markdown",
   "id": "93cd1ecb",
   "metadata": {},
   "source": [
    "### Logistic Regression"
   ]
  },
  {
   "cell_type": "code",
   "execution_count": 61,
   "id": "1f62970c",
   "metadata": {},
   "outputs": [
    {
     "data": {
      "text/plain": [
       "37.94217000573626"
      ]
     },
     "execution_count": 61,
     "metadata": {},
     "output_type": "execute_result"
    }
   ],
   "source": [
    "LR = LogisticRegression()\n",
    "\n",
    "LR.fit(X_train,y_train)\n",
    "\n",
    "y_pred_LR=LR.predict(X_test)\n",
    "accuracy_score(y_test,y_pred_LR)*100 "
   ]
  },
  {
   "cell_type": "code",
   "execution_count": 62,
   "id": "1d2b8a1b",
   "metadata": {},
   "outputs": [
    {
     "name": "stdout",
     "output_type": "stream",
     "text": [
      "              precision    recall  f1-score   support\n",
      "\n",
      "           1       0.48      0.02      0.03      6901\n",
      "           2       0.37      0.45      0.41     23205\n",
      "           3       0.40      0.64      0.49     25792\n",
      "           4       0.32      0.19      0.24     16289\n",
      "           5       0.00      0.00      0.00      3439\n",
      "           6       0.37      0.46      0.41     10470\n",
      "           7       0.00      0.00      0.00       822\n",
      "           8       0.00      0.00      0.00      3093\n",
      "           9       0.11      0.00      0.01      1412\n",
      "          10       0.00      0.00      0.00       782\n",
      "          11       0.49      0.32      0.39      1933\n",
      "\n",
      "    accuracy                           0.38     94138\n",
      "   macro avg       0.23      0.19      0.18     94138\n",
      "weighted avg       0.34      0.38      0.33     94138\n",
      "\n"
     ]
    }
   ],
   "source": [
    "print(classification_report(y_test,y_pred_LR))"
   ]
  },
  {
   "cell_type": "markdown",
   "id": "149d519b",
   "metadata": {},
   "source": [
    "### Decision Tree"
   ]
  },
  {
   "cell_type": "code",
   "execution_count": 63,
   "id": "92191955",
   "metadata": {},
   "outputs": [],
   "source": [
    "decision_tree_classification = DecisionTreeClassifier(criterion = 'entropy', random_state = 10)\n",
    "\n",
    "decision_tree = decision_tree_classification.fit(X_train, y_train)"
   ]
  },
  {
   "cell_type": "code",
   "execution_count": 64,
   "id": "2e77316b",
   "metadata": {},
   "outputs": [
    {
     "data": {
      "text/plain": [
       "29.678769466102956"
      ]
     },
     "execution_count": 64,
     "metadata": {},
     "output_type": "execute_result"
    }
   ],
   "source": [
    "y_pred_DT=decision_tree.predict(X_test)\n",
    "accuracy_score(y_test,y_pred_DT)*100 "
   ]
  },
  {
   "cell_type": "code",
   "execution_count": 65,
   "id": "44134183",
   "metadata": {},
   "outputs": [
    {
     "name": "stdout",
     "output_type": "stream",
     "text": [
      "              precision    recall  f1-score   support\n",
      "\n",
      "           1       0.19      0.19      0.19      6901\n",
      "           2       0.34      0.34      0.34     23205\n",
      "           3       0.39      0.38      0.38     25792\n",
      "           4       0.25      0.25      0.25     16289\n",
      "           5       0.06      0.07      0.07      3439\n",
      "           6       0.31      0.30      0.31     10470\n",
      "           7       0.03      0.04      0.03       822\n",
      "           8       0.15      0.15      0.15      3093\n",
      "           9       0.22      0.23      0.22      1412\n",
      "          10       0.08      0.10      0.09       782\n",
      "          11       0.32      0.35      0.33      1933\n",
      "\n",
      "    accuracy                           0.30     94138\n",
      "   macro avg       0.21      0.22      0.21     94138\n",
      "weighted avg       0.30      0.30      0.30     94138\n",
      "\n"
     ]
    }
   ],
   "source": [
    "print(classification_report(y_test,y_pred_DT))"
   ]
  },
  {
   "cell_type": "markdown",
   "id": "466de910",
   "metadata": {},
   "source": [
    "### Tuned HyperParameter Decision Tree"
   ]
  },
  {
   "cell_type": "code",
   "execution_count": 105,
   "id": "4e1abca8",
   "metadata": {},
   "outputs": [
    {
     "data": {
      "text/plain": [
       "GridSearchCV(cv=KFold(n_splits=10, random_state=10, shuffle=True),\n",
       "             estimator=DecisionTreeClassifier(criterion='entropy',\n",
       "                                              random_state=10),\n",
       "             param_grid={'criterion': ['entropy', 'gini'],\n",
       "                         'max_depth': array([ 1,  2,  3,  4,  5,  6,  7,  8,  9, 10, 11, 12, 13, 14, 15, 16, 17,\n",
       "       18, 19, 20, 21, 22, 23, 24, 25, 26, 27, 28, 29, 30, 31, 32, 33, 34,\n",
       "       35, 36, 37, 38, 39, 40, 41, 42, 43, 44, 45, 46, 47, 48, 49, 50, 51,\n",
       "       52, 53, 54, 55, 56, 57, 58, 59, 60, 61, 62, 63, 64, 65, 66, 67, 68,\n",
       "       69, 70, 71, 72, 73, 74, 75, 76, 77, 78, 79, 80, 81, 82, 83, 84, 85,\n",
       "       86, 87, 88, 89, 90, 91, 92, 93, 94, 95, 96, 97, 98, 99])},\n",
       "             scoring='f1_weighted')"
      ]
     },
     "execution_count": 105,
     "metadata": {},
     "output_type": "execute_result"
    }
   ],
   "source": [
    "tuned_paramaters = {'max_depth':np.arange(1,100),'criterion' : ['entropy','gini']}  \n",
    "\n",
    "from sklearn.model_selection import GridSearchCV\n",
    "\n",
    "tree_grid = GridSearchCV(decision_tree_classification, tuned_paramaters, cv = kfold, scoring = 'f1_weighted')        \n",
    "\n",
    "tree_grid.fit(X_train,y_train)"
   ]
  },
  {
   "cell_type": "code",
   "execution_count": 106,
   "id": "ff9d2318",
   "metadata": {},
   "outputs": [
    {
     "data": {
      "text/plain": [
       "{'criterion': 'gini', 'max_depth': 11}"
      ]
     },
     "execution_count": 106,
     "metadata": {},
     "output_type": "execute_result"
    }
   ],
   "source": [
    "tree_grid.best_params_"
   ]
  },
  {
   "cell_type": "code",
   "execution_count": 66,
   "id": "39aba511",
   "metadata": {},
   "outputs": [],
   "source": [
    "dt_tuned = DecisionTreeClassifier(criterion = 'gini', max_depth=11, random_state = 10)\n",
    "\n",
    "decision_tree_tuned = dt_tuned.fit(X_train, y_train)"
   ]
  },
  {
   "cell_type": "code",
   "execution_count": 67,
   "id": "b3bc2ca8",
   "metadata": {},
   "outputs": [
    {
     "data": {
      "text/plain": [
       "40.82198474579872"
      ]
     },
     "execution_count": 67,
     "metadata": {},
     "output_type": "execute_result"
    }
   ],
   "source": [
    "y_pred_DT_tuned = decision_tree_tuned.predict(X_test)\n",
    "accuracy_score(y_test,y_pred_DT_tuned)*100 "
   ]
  },
  {
   "cell_type": "code",
   "execution_count": 68,
   "id": "d5151ac6",
   "metadata": {},
   "outputs": [
    {
     "name": "stdout",
     "output_type": "stream",
     "text": [
      "              precision    recall  f1-score   support\n",
      "\n",
      "           1       0.36      0.13      0.19      6901\n",
      "           2       0.41      0.46      0.44     23205\n",
      "           3       0.41      0.67      0.51     25792\n",
      "           4       0.39      0.23      0.29     16289\n",
      "           5       0.07      0.00      0.00      3439\n",
      "           6       0.41      0.45      0.43     10470\n",
      "           7       0.00      0.00      0.00       822\n",
      "           8       0.27      0.03      0.05      3093\n",
      "           9       0.35      0.21      0.27      1412\n",
      "          10       0.20      0.03      0.05       782\n",
      "          11       0.52      0.36      0.43      1933\n",
      "\n",
      "    accuracy                           0.41     94138\n",
      "   macro avg       0.31      0.23      0.24     94138\n",
      "weighted avg       0.38      0.41      0.37     94138\n",
      "\n"
     ]
    }
   ],
   "source": [
    "print(classification_report(y_test,y_pred_DT_tuned))"
   ]
  },
  {
   "cell_type": "markdown",
   "id": "c80bbdf5",
   "metadata": {},
   "source": [
    "### Random Forest"
   ]
  },
  {
   "cell_type": "code",
   "execution_count": 69,
   "id": "d0c88610",
   "metadata": {},
   "outputs": [],
   "source": [
    "rf_classification = RandomForestClassifier(random_state = 10)\n",
    "\n",
    "rf_model = rf_classification.fit(X_train, y_train)"
   ]
  },
  {
   "cell_type": "code",
   "execution_count": 70,
   "id": "23a39579",
   "metadata": {},
   "outputs": [
    {
     "data": {
      "text/plain": [
       "38.315026875438186"
      ]
     },
     "execution_count": 70,
     "metadata": {},
     "output_type": "execute_result"
    }
   ],
   "source": [
    "y_pred_RF = rf_model.predict(X_test)\n",
    "accuracy_score(y_test,y_pred_RF)*100 "
   ]
  },
  {
   "cell_type": "code",
   "execution_count": 72,
   "id": "5a7b7f47",
   "metadata": {},
   "outputs": [
    {
     "name": "stdout",
     "output_type": "stream",
     "text": [
      "              precision    recall  f1-score   support\n",
      "\n",
      "           1       0.30      0.19      0.23      6901\n",
      "           2       0.39      0.44      0.42     23205\n",
      "           3       0.41      0.54      0.47     25792\n",
      "           4       0.33      0.27      0.29     16289\n",
      "           5       0.09      0.02      0.04      3439\n",
      "           6       0.40      0.44      0.42     10470\n",
      "           7       0.10      0.02      0.03       822\n",
      "           8       0.28      0.10      0.15      3093\n",
      "           9       0.37      0.22      0.28      1412\n",
      "          10       0.24      0.06      0.09       782\n",
      "          11       0.52      0.44      0.48      1933\n",
      "\n",
      "    accuracy                           0.38     94138\n",
      "   macro avg       0.31      0.25      0.26     94138\n",
      "weighted avg       0.36      0.38      0.37     94138\n",
      "\n"
     ]
    }
   ],
   "source": [
    "print(classification_report(y_test,y_pred_RF))"
   ]
  },
  {
   "cell_type": "markdown",
   "id": "1dae8e7a",
   "metadata": {},
   "source": [
    "### Tuned HyperParameter Random Forest"
   ]
  },
  {
   "cell_type": "code",
   "execution_count": null,
   "id": "a83cb13d",
   "metadata": {},
   "outputs": [],
   "source": [
    "tuned_paramaters = {'n_estimators':np.arange(1,50),'criterion' : ['entropy','gini']}  \n",
    "\n",
    "from sklearn.model_selection import GridSearchCV\n",
    "\n",
    "RF_grid = GridSearchCV(rf_classification, tuned_paramaters, cv = kfold)        \n",
    "\n",
    "RF_grid.fit(X_train,y_train)"
   ]
  },
  {
   "cell_type": "code",
   "execution_count": 120,
   "id": "2b545738",
   "metadata": {},
   "outputs": [
    {
     "data": {
      "text/plain": [
       "{'criterion': 'gini', 'n_estimators': 47}"
      ]
     },
     "execution_count": 120,
     "metadata": {},
     "output_type": "execute_result"
    }
   ],
   "source": [
    "RF_grid.best_params_"
   ]
  },
  {
   "cell_type": "code",
   "execution_count": 74,
   "id": "61ee223f",
   "metadata": {},
   "outputs": [],
   "source": [
    "rf_classification_tuned = RandomForestClassifier(criterion = 'gini', n_estimators = 47, random_state = 10)\n",
    "\n",
    "rf_model_tuned = rf_classification_tuned.fit(X_train, y_train)"
   ]
  },
  {
   "cell_type": "code",
   "execution_count": 75,
   "id": "f0ee2e8e",
   "metadata": {},
   "outputs": [
    {
     "data": {
      "text/plain": [
       "37.94323227602031"
      ]
     },
     "execution_count": 75,
     "metadata": {},
     "output_type": "execute_result"
    }
   ],
   "source": [
    "y_pred_RF_tuned = rf_model_tuned.predict(X_test)\n",
    "accuracy_score(y_test,y_pred_RF_tuned)*100 "
   ]
  },
  {
   "cell_type": "code",
   "execution_count": 76,
   "id": "13f702a8",
   "metadata": {},
   "outputs": [
    {
     "name": "stdout",
     "output_type": "stream",
     "text": [
      "              precision    recall  f1-score   support\n",
      "\n",
      "           1       0.29      0.19      0.23      6901\n",
      "           2       0.38      0.44      0.41     23205\n",
      "           3       0.41      0.53      0.46     25792\n",
      "           4       0.32      0.27      0.30     16289\n",
      "           5       0.09      0.02      0.04      3439\n",
      "           6       0.39      0.43      0.41     10470\n",
      "           7       0.10      0.02      0.03       822\n",
      "           8       0.28      0.11      0.15      3093\n",
      "           9       0.36      0.22      0.27      1412\n",
      "          10       0.22      0.05      0.08       782\n",
      "          11       0.52      0.43      0.47      1933\n",
      "\n",
      "    accuracy                           0.38     94138\n",
      "   macro avg       0.31      0.25      0.26     94138\n",
      "weighted avg       0.36      0.38      0.36     94138\n",
      "\n"
     ]
    }
   ],
   "source": [
    "print(classification_report(y_test,y_pred_RF_tuned))"
   ]
  },
  {
   "cell_type": "markdown",
   "id": "ba881478",
   "metadata": {},
   "source": [
    "### ADA Boost - Decision Tree"
   ]
  },
  {
   "cell_type": "code",
   "execution_count": 77,
   "id": "a14a9f32",
   "metadata": {},
   "outputs": [],
   "source": [
    "dt_tuned = DecisionTreeClassifier(criterion = 'gini', max_depth=11, random_state = 10)"
   ]
  },
  {
   "cell_type": "code",
   "execution_count": 78,
   "id": "b404020b",
   "metadata": {},
   "outputs": [
    {
     "data": {
      "text/plain": [
       "AdaBoostClassifier(base_estimator=DecisionTreeClassifier(max_depth=11,\n",
       "                                                         random_state=10),\n",
       "                   random_state=10)"
      ]
     },
     "execution_count": 78,
     "metadata": {},
     "output_type": "execute_result"
    }
   ],
   "source": [
    "ada_model_DT = AdaBoostClassifier(base_estimator=dt_tuned, random_state = 10)\n",
    "\n",
    "ada_model_DT.fit(X_train, y_train)"
   ]
  },
  {
   "cell_type": "code",
   "execution_count": 79,
   "id": "931af0e0",
   "metadata": {},
   "outputs": [
    {
     "data": {
      "text/plain": [
       "30.21734050011685"
      ]
     },
     "execution_count": 79,
     "metadata": {},
     "output_type": "execute_result"
    }
   ],
   "source": [
    "y_pred_ada_model_DT = ada_model_DT.predict(X_test)\n",
    "accuracy_score(y_test,y_pred_ada_model_DT)*100 "
   ]
  },
  {
   "cell_type": "code",
   "execution_count": 80,
   "id": "113b4860",
   "metadata": {},
   "outputs": [
    {
     "name": "stdout",
     "output_type": "stream",
     "text": [
      "              precision    recall  f1-score   support\n",
      "\n",
      "           1       0.20      0.17      0.19      6901\n",
      "           2       0.33      0.32      0.33     23205\n",
      "           3       0.38      0.41      0.40     25792\n",
      "           4       0.22      0.27      0.24     16289\n",
      "           5       0.06      0.04      0.04      3439\n",
      "           6       0.32      0.36      0.34     10470\n",
      "           7       0.02      0.00      0.00       822\n",
      "           8       0.15      0.10      0.12      3093\n",
      "           9       0.21      0.09      0.12      1412\n",
      "          10       0.07      0.01      0.02       782\n",
      "          11       0.45      0.21      0.29      1933\n",
      "\n",
      "    accuracy                           0.30     94138\n",
      "   macro avg       0.22      0.18      0.19     94138\n",
      "weighted avg       0.29      0.30      0.30     94138\n",
      "\n"
     ]
    }
   ],
   "source": [
    "print(classification_report(y_test,y_pred_ada_model_DT))"
   ]
  },
  {
   "cell_type": "code",
   "execution_count": 62,
   "id": "447f6f51",
   "metadata": {},
   "outputs": [
    {
     "data": {
      "text/plain": [
       "GridSearchCV(cv=KFold(n_splits=10, random_state=10, shuffle=True),\n",
       "             estimator=AdaBoostClassifier(base_estimator=DecisionTreeClassifier(max_depth=11,\n",
       "                                                                                random_state=10),\n",
       "                                          random_state=10),\n",
       "             param_grid={'n_estimators': array([ 1,  2,  3,  4,  5,  6,  7,  8,  9, 10, 11, 12, 13, 14, 15, 16, 17,\n",
       "       18, 19, 20, 21, 22, 23, 24, 25, 26, 27, 28, 29, 30, 31, 32, 33, 34,\n",
       "       35, 36, 37, 38, 39, 40, 41, 42, 43, 44, 45, 46, 47, 48, 49])})"
      ]
     },
     "execution_count": 62,
     "metadata": {},
     "output_type": "execute_result"
    }
   ],
   "source": [
    "tuned_paramaters = {'n_estimators':np.arange(1,50)}  \n",
    "\n",
    "from sklearn.model_selection import GridSearchCV\n",
    "\n",
    "DT_AB_grid = GridSearchCV(ada_model_DT, tuned_paramaters, cv = kfold)        \n",
    "\n",
    "DT_AB_grid.fit(X_train,y_train)"
   ]
  },
  {
   "cell_type": "code",
   "execution_count": 63,
   "id": "acf1b6b7",
   "metadata": {},
   "outputs": [
    {
     "data": {
      "text/plain": [
       "{'n_estimators': 1}"
      ]
     },
     "execution_count": 63,
     "metadata": {},
     "output_type": "execute_result"
    }
   ],
   "source": [
    "DT_AB_grid.best_params_"
   ]
  },
  {
   "cell_type": "code",
   "execution_count": 81,
   "id": "b067491f",
   "metadata": {},
   "outputs": [
    {
     "data": {
      "text/plain": [
       "AdaBoostClassifier(base_estimator=DecisionTreeClassifier(max_depth=11,\n",
       "                                                         random_state=10),\n",
       "                   n_estimators=1, random_state=10)"
      ]
     },
     "execution_count": 81,
     "metadata": {},
     "output_type": "execute_result"
    }
   ],
   "source": [
    "ada_model_DT_tuned = AdaBoostClassifier(base_estimator=dt_tuned, n_estimators = 1, random_state = 10)\n",
    "\n",
    "ada_model_DT_tuned.fit(X_train, y_train)"
   ]
  },
  {
   "cell_type": "code",
   "execution_count": 65,
   "id": "147bd04c",
   "metadata": {},
   "outputs": [
    {
     "data": {
      "text/plain": [
       "30.21734050011685"
      ]
     },
     "execution_count": 65,
     "metadata": {},
     "output_type": "execute_result"
    }
   ],
   "source": [
    "y_pred_ada_model_DT_tuned = ada_model_DT.predict(X_test)\n",
    "accuracy_score(y_test,y_pred_ada_model_DT_tuned)*100 "
   ]
  },
  {
   "cell_type": "code",
   "execution_count": 66,
   "id": "30fce696",
   "metadata": {},
   "outputs": [
    {
     "name": "stdout",
     "output_type": "stream",
     "text": [
      "              precision    recall  f1-score   support\n",
      "\n",
      "           1       0.20      0.17      0.19      6901\n",
      "           2       0.33      0.32      0.33     23205\n",
      "           3       0.38      0.41      0.40     25792\n",
      "           4       0.22      0.27      0.24     16289\n",
      "           5       0.06      0.04      0.04      3439\n",
      "           6       0.32      0.36      0.34     10470\n",
      "           7       0.02      0.00      0.00       822\n",
      "           8       0.15      0.10      0.12      3093\n",
      "           9       0.21      0.09      0.12      1412\n",
      "          10       0.07      0.01      0.02       782\n",
      "          11       0.45      0.21      0.29      1933\n",
      "\n",
      "    accuracy                           0.30     94138\n",
      "   macro avg       0.22      0.18      0.19     94138\n",
      "weighted avg       0.29      0.30      0.30     94138\n",
      "\n"
     ]
    }
   ],
   "source": [
    "print(classification_report(y_test,y_pred_ada_model_DT_tuned))"
   ]
  },
  {
   "cell_type": "markdown",
   "id": "96c6c3ac",
   "metadata": {},
   "source": [
    "### ADA Boost - Random Forest"
   ]
  },
  {
   "cell_type": "code",
   "execution_count": 37,
   "id": "7e6d8c81",
   "metadata": {},
   "outputs": [],
   "source": [
    "rf_classification_tuned = RandomForestClassifier(criterion = 'gini', n_estimators = 47, random_state = 10)"
   ]
  },
  {
   "cell_type": "code",
   "execution_count": 38,
   "id": "6479d312",
   "metadata": {},
   "outputs": [
    {
     "data": {
      "text/plain": [
       "AdaBoostClassifier(base_estimator=RandomForestClassifier(n_estimators=47,\n",
       "                                                         random_state=10),\n",
       "                   n_estimators=1, random_state=10)"
      ]
     },
     "execution_count": 38,
     "metadata": {},
     "output_type": "execute_result"
    }
   ],
   "source": [
    "ada_model_rf = AdaBoostClassifier(base_estimator=rf_classification_tuned, n_estimators=1, random_state = 10)\n",
    "\n",
    "ada_model_rf.fit(X_train, y_train)"
   ]
  },
  {
   "cell_type": "code",
   "execution_count": 39,
   "id": "260e07fc",
   "metadata": {},
   "outputs": [
    {
     "data": {
      "text/plain": [
       "38.03989887186896"
      ]
     },
     "execution_count": 39,
     "metadata": {},
     "output_type": "execute_result"
    }
   ],
   "source": [
    "y_pred_ada_model_RF = ada_model_rf.predict(X_test)\n",
    "accuracy_score(y_test,y_pred_ada_model_RF)*100 "
   ]
  },
  {
   "cell_type": "code",
   "execution_count": 40,
   "id": "3f33da63",
   "metadata": {},
   "outputs": [
    {
     "name": "stdout",
     "output_type": "stream",
     "text": [
      "              precision    recall  f1-score   support\n",
      "\n",
      "           1       0.29      0.20      0.24      6901\n",
      "           2       0.39      0.44      0.41     23205\n",
      "           3       0.41      0.53      0.46     25792\n",
      "           4       0.32      0.27      0.29     16289\n",
      "           5       0.09      0.02      0.04      3439\n",
      "           6       0.39      0.43      0.41     10470\n",
      "           7       0.10      0.02      0.03       822\n",
      "           8       0.26      0.10      0.15      3093\n",
      "           9       0.38      0.23      0.29      1412\n",
      "          10       0.20      0.04      0.07       782\n",
      "          11       0.52      0.44      0.47      1933\n",
      "\n",
      "    accuracy                           0.38     94138\n",
      "   macro avg       0.31      0.25      0.26     94138\n",
      "weighted avg       0.36      0.38      0.36     94138\n",
      "\n"
     ]
    }
   ],
   "source": [
    "print(classification_report(y_test,y_pred_ada_model_RF))"
   ]
  },
  {
   "cell_type": "code",
   "execution_count": 41,
   "id": "ef2e8c4f",
   "metadata": {},
   "outputs": [
    {
     "data": {
      "text/plain": [
       "GridSearchCV(cv=KFold(n_splits=10, random_state=10, shuffle=True),\n",
       "             estimator=AdaBoostClassifier(base_estimator=RandomForestClassifier(n_estimators=47,\n",
       "                                                                                random_state=10),\n",
       "                                          n_estimators=1, random_state=10),\n",
       "             param_grid={'n_estimators': array([ 1,  2,  3,  4,  5,  6,  7,  8,  9, 10, 11, 12, 13, 14, 15, 16, 17,\n",
       "       18, 19])})"
      ]
     },
     "execution_count": 41,
     "metadata": {},
     "output_type": "execute_result"
    }
   ],
   "source": [
    "tuned_paramaters = {'n_estimators':np.arange(1,20)}  \n",
    "\n",
    "from sklearn.model_selection import GridSearchCV\n",
    "\n",
    "RF_AB_grid = GridSearchCV(ada_model_rf, tuned_paramaters, cv = kfold)        \n",
    "\n",
    "RF_AB_grid.fit(X_train,y_train)"
   ]
  },
  {
   "cell_type": "code",
   "execution_count": 39,
   "id": "39301605",
   "metadata": {},
   "outputs": [
    {
     "data": {
      "text/plain": [
       "AdaBoostClassifier(base_estimator=RandomForestClassifier(n_estimators=47,\n",
       "                                                         random_state=10),\n",
       "                   n_estimators=4, random_state=10)"
      ]
     },
     "execution_count": 39,
     "metadata": {},
     "output_type": "execute_result"
    }
   ],
   "source": [
    "ada_model_rf_tuned = AdaBoostClassifier(base_estimator=rf_classification_tuned, n_estimators = 4, random_state = 10)\n",
    "\n",
    "ada_model_rf_tuned.fit(X_train, y_train)"
   ]
  },
  {
   "cell_type": "code",
   "execution_count": 41,
   "id": "6e0a7bf4",
   "metadata": {},
   "outputs": [
    {
     "data": {
      "text/plain": [
       "38.33627228111921"
      ]
     },
     "execution_count": 41,
     "metadata": {},
     "output_type": "execute_result"
    }
   ],
   "source": [
    "y_pred_ada_model_rf_tuned = ada_model_rf_tuned.predict(X_test)\n",
    "accuracy_score(y_test,y_pred_ada_model_rf_tuned)*100 "
   ]
  },
  {
   "cell_type": "code",
   "execution_count": 47,
   "id": "f4f5eec4",
   "metadata": {},
   "outputs": [
    {
     "name": "stdout",
     "output_type": "stream",
     "text": [
      "              precision    recall  f1-score   support\n",
      "\n",
      "           1       0.30      0.15      0.20      6901\n",
      "           2       0.39      0.44      0.41     23205\n",
      "           3       0.41      0.56      0.47     25792\n",
      "           4       0.32      0.26      0.29     16289\n",
      "           5       0.09      0.02      0.03      3439\n",
      "           6       0.39      0.45      0.42     10470\n",
      "           7       0.12      0.02      0.04       822\n",
      "           8       0.32      0.10      0.15      3093\n",
      "           9       0.43      0.16      0.24      1412\n",
      "          10       0.28      0.06      0.10       782\n",
      "          11       0.54      0.44      0.48      1933\n",
      "\n",
      "    accuracy                           0.38     94138\n",
      "   macro avg       0.33      0.24      0.26     94138\n",
      "weighted avg       0.36      0.38      0.36     94138\n",
      "\n"
     ]
    }
   ],
   "source": [
    "print(classification_report(y_test,y_pred_ada_model_rf_tuned))"
   ]
  },
  {
   "cell_type": "markdown",
   "id": "712deff6",
   "metadata": {},
   "source": [
    "### Gradient boost"
   ]
  },
  {
   "cell_type": "code",
   "execution_count": 44,
   "id": "e2226cc9",
   "metadata": {},
   "outputs": [],
   "source": [
    "from sklearn.ensemble import GradientBoostingClassifier\n",
    "GB=GradientBoostingClassifier(random_state=10)"
   ]
  },
  {
   "cell_type": "code",
   "execution_count": 45,
   "id": "f33dfd69",
   "metadata": {},
   "outputs": [
    {
     "data": {
      "text/plain": [
       "GradientBoostingClassifier(random_state=10)"
      ]
     },
     "execution_count": 45,
     "metadata": {},
     "output_type": "execute_result"
    }
   ],
   "source": [
    "GB.fit(X_train, y_train)"
   ]
  },
  {
   "cell_type": "code",
   "execution_count": 46,
   "id": "5617000c",
   "metadata": {},
   "outputs": [
    {
     "data": {
      "text/plain": [
       "41.5475153498056"
      ]
     },
     "execution_count": 46,
     "metadata": {},
     "output_type": "execute_result"
    }
   ],
   "source": [
    "y_pred_GB = GB.predict(X_test)\n",
    "accuracy_score(y_test,y_pred_GB)*100 "
   ]
  },
  {
   "cell_type": "code",
   "execution_count": 48,
   "id": "9e2c486f",
   "metadata": {},
   "outputs": [
    {
     "name": "stdout",
     "output_type": "stream",
     "text": [
      "              precision    recall  f1-score   support\n",
      "\n",
      "           1       0.41      0.12      0.19      6901\n",
      "           2       0.42      0.51      0.46     23205\n",
      "           3       0.42      0.66      0.52     25792\n",
      "           4       0.41      0.17      0.24     16289\n",
      "           5       0.14      0.00      0.00      3439\n",
      "           6       0.39      0.53      0.45     10470\n",
      "           7       0.00      0.00      0.00       822\n",
      "           8       0.30      0.01      0.02      3093\n",
      "           9       0.31      0.20      0.24      1412\n",
      "          10       0.17      0.01      0.01       782\n",
      "          11       0.52      0.40      0.45      1933\n",
      "\n",
      "    accuracy                           0.42     94138\n",
      "   macro avg       0.32      0.24      0.23     94138\n",
      "weighted avg       0.39      0.42      0.37     94138\n",
      "\n"
     ]
    }
   ],
   "source": [
    "print(classification_report(y_test,y_pred_GB))"
   ]
  },
  {
   "cell_type": "code",
   "execution_count": 49,
   "id": "aae3ad7c",
   "metadata": {},
   "outputs": [
    {
     "data": {
      "text/plain": [
       "GridSearchCV(cv=KFold(n_splits=10, random_state=10, shuffle=True),\n",
       "             estimator=GradientBoostingClassifier(random_state=10),\n",
       "             param_grid={'n_estimators': array([ 1,  2,  3,  4,  5,  6,  7,  8,  9, 10, 11, 12, 13, 14, 15, 16, 17,\n",
       "       18, 19, 20, 21, 22, 23, 24, 25, 26, 27, 28, 29])})"
      ]
     },
     "execution_count": 49,
     "metadata": {},
     "output_type": "execute_result"
    }
   ],
   "source": [
    "tuned_paramaters = {'n_estimators':np.arange(1,30)}  \n",
    "\n",
    "from sklearn.model_selection import GridSearchCV\n",
    "\n",
    "GB_grid = GridSearchCV(GB, tuned_paramaters, cv = kfold)        \n",
    "\n",
    "GB_grid.fit(X_train,y_train)"
   ]
  },
  {
   "cell_type": "code",
   "execution_count": 50,
   "id": "42359e53",
   "metadata": {},
   "outputs": [
    {
     "data": {
      "text/plain": [
       "{'n_estimators': 29}"
      ]
     },
     "execution_count": 50,
     "metadata": {},
     "output_type": "execute_result"
    }
   ],
   "source": [
    "GB_grid.best_params_"
   ]
  },
  {
   "cell_type": "code",
   "execution_count": 51,
   "id": "58baeaf7",
   "metadata": {},
   "outputs": [],
   "source": [
    "GB_tuned=GradientBoostingClassifier(n_estimators=29, random_state=10)"
   ]
  },
  {
   "cell_type": "code",
   "execution_count": 52,
   "id": "20f29559",
   "metadata": {},
   "outputs": [
    {
     "data": {
      "text/plain": [
       "GradientBoostingClassifier(n_estimators=29, random_state=10)"
      ]
     },
     "execution_count": 52,
     "metadata": {},
     "output_type": "execute_result"
    }
   ],
   "source": [
    "GB_tuned.fit(X_train, y_train)"
   ]
  },
  {
   "cell_type": "code",
   "execution_count": 53,
   "id": "31ee3895",
   "metadata": {},
   "outputs": [
    {
     "data": {
      "text/plain": [
       "40.07202192525866"
      ]
     },
     "execution_count": 53,
     "metadata": {},
     "output_type": "execute_result"
    }
   ],
   "source": [
    "y_pred_GB_tuned = GB_tuned.predict(X_test)\n",
    "accuracy_score(y_test,y_pred_GB_tuned)*100 "
   ]
  },
  {
   "cell_type": "code",
   "execution_count": 61,
   "id": "03b44aa8",
   "metadata": {},
   "outputs": [
    {
     "name": "stdout",
     "output_type": "stream",
     "text": [
      "              precision    recall  f1-score   support\n",
      "\n",
      "           1       0.42      0.09      0.15      6901\n",
      "           2       0.40      0.48      0.43     23205\n",
      "           3       0.41      0.66      0.51     25792\n",
      "           4       0.40      0.12      0.19     16289\n",
      "           5       0.00      0.00      0.00      3439\n",
      "           6       0.37      0.58      0.45     10470\n",
      "           7       0.00      0.00      0.00       822\n",
      "           8       0.33      0.00      0.01      3093\n",
      "           9       0.30      0.21      0.24      1412\n",
      "          10       0.00      0.00      0.00       782\n",
      "          11       0.55      0.37      0.44      1933\n",
      "\n",
      "    accuracy                           0.40     94138\n",
      "   macro avg       0.29      0.23      0.22     94138\n",
      "weighted avg       0.38      0.40      0.35     94138\n",
      "\n"
     ]
    }
   ],
   "source": [
    "print(classification_report(y_test,y_pred_GB_tuned))"
   ]
  },
  {
   "cell_type": "markdown",
   "id": "4af1f37c",
   "metadata": {},
   "source": [
    "### Naive Bayes"
   ]
  },
  {
   "cell_type": "code",
   "execution_count": 58,
   "id": "d9b3a505",
   "metadata": {},
   "outputs": [],
   "source": [
    "from sklearn.naive_bayes import GaussianNB\n",
    "NB = GaussianNB()"
   ]
  },
  {
   "cell_type": "code",
   "execution_count": 59,
   "id": "2be9e58d",
   "metadata": {},
   "outputs": [
    {
     "data": {
      "text/plain": [
       "GaussianNB()"
      ]
     },
     "execution_count": 59,
     "metadata": {},
     "output_type": "execute_result"
    }
   ],
   "source": [
    "NB.fit(X_train,y_train)"
   ]
  },
  {
   "cell_type": "code",
   "execution_count": 60,
   "id": "17eaae8d",
   "metadata": {},
   "outputs": [
    {
     "data": {
      "text/plain": [
       "36.37850814761308"
      ]
     },
     "execution_count": 60,
     "metadata": {},
     "output_type": "execute_result"
    }
   ],
   "source": [
    "y_pred_NB = NB.predict(X_test)\n",
    "accuracy_score(y_test,y_pred_NB)*100 "
   ]
  },
  {
   "cell_type": "code",
   "execution_count": 62,
   "id": "90c76284",
   "metadata": {},
   "outputs": [
    {
     "name": "stdout",
     "output_type": "stream",
     "text": [
      "              precision    recall  f1-score   support\n",
      "\n",
      "           1       0.30      0.09      0.14      6901\n",
      "           2       0.36      0.41      0.39     23205\n",
      "           3       0.39      0.65      0.49     25792\n",
      "           4       0.32      0.15      0.21     16289\n",
      "           5       0.08      0.01      0.01      3439\n",
      "           6       0.33      0.38      0.36     10470\n",
      "           7       0.04      0.00      0.00       822\n",
      "           8       0.10      0.01      0.02      3093\n",
      "           9       0.12      0.02      0.04      1412\n",
      "          10       0.50      0.00      0.00       782\n",
      "          11       0.42      0.37      0.39      1933\n",
      "\n",
      "    accuracy                           0.36     94138\n",
      "   macro avg       0.27      0.19      0.18     94138\n",
      "weighted avg       0.33      0.36      0.32     94138\n",
      "\n"
     ]
    }
   ],
   "source": [
    "print(classification_report(y_test,y_pred_NB))"
   ]
  },
  {
   "cell_type": "markdown",
   "id": "014f44ca",
   "metadata": {},
   "source": [
    "### KNN"
   ]
  },
  {
   "cell_type": "code",
   "execution_count": 63,
   "id": "4189f71c",
   "metadata": {},
   "outputs": [],
   "source": [
    "from sklearn.neighbors import KNeighborsClassifier\n",
    "\n",
    "knn=KNeighborsClassifier(n_neighbors=565,weights='distance')  "
   ]
  },
  {
   "cell_type": "code",
   "execution_count": 64,
   "id": "2e49935c",
   "metadata": {},
   "outputs": [
    {
     "data": {
      "text/plain": [
       "KNeighborsClassifier(n_neighbors=565, weights='distance')"
      ]
     },
     "execution_count": 64,
     "metadata": {},
     "output_type": "execute_result"
    }
   ],
   "source": [
    "knn.fit(X_train,y_train)"
   ]
  },
  {
   "cell_type": "code",
   "execution_count": 65,
   "id": "ed8347b5",
   "metadata": {},
   "outputs": [
    {
     "data": {
      "text/plain": [
       "36.37850814761308"
      ]
     },
     "execution_count": 65,
     "metadata": {},
     "output_type": "execute_result"
    }
   ],
   "source": [
    "y_pred_KNN = NB.predict(X_test)\n",
    "accuracy_score(y_test,y_pred_KNN)*100 "
   ]
  },
  {
   "cell_type": "code",
   "execution_count": 66,
   "id": "2dcf082e",
   "metadata": {},
   "outputs": [
    {
     "name": "stdout",
     "output_type": "stream",
     "text": [
      "              precision    recall  f1-score   support\n",
      "\n",
      "           1       0.30      0.09      0.14      6901\n",
      "           2       0.36      0.41      0.39     23205\n",
      "           3       0.39      0.65      0.49     25792\n",
      "           4       0.32      0.15      0.21     16289\n",
      "           5       0.08      0.01      0.01      3439\n",
      "           6       0.33      0.38      0.36     10470\n",
      "           7       0.04      0.00      0.00       822\n",
      "           8       0.10      0.01      0.02      3093\n",
      "           9       0.12      0.02      0.04      1412\n",
      "          10       0.50      0.00      0.00       782\n",
      "          11       0.42      0.37      0.39      1933\n",
      "\n",
      "    accuracy                           0.36     94138\n",
      "   macro avg       0.27      0.19      0.18     94138\n",
      "weighted avg       0.33      0.36      0.32     94138\n",
      "\n"
     ]
    }
   ],
   "source": [
    "print(classification_report(y_test,y_pred_NB))"
   ]
  },
  {
   "cell_type": "markdown",
   "id": "9dff118d",
   "metadata": {},
   "source": [
    "### CATBoost"
   ]
  },
  {
   "cell_type": "code",
   "execution_count": 48,
   "id": "be306779",
   "metadata": {},
   "outputs": [
    {
     "name": "stdout",
     "output_type": "stream",
     "text": [
      "Learning rate set to 0.120271\n",
      "0:\tlearn: 2.1972797\ttest: 2.1978440\tbest: 2.1978440 (0)\ttotal: 556ms\tremaining: 9m 15s\n",
      "100:\tlearn: 1.5115382\ttest: 1.5242638\tbest: 1.5242638 (100)\ttotal: 35.6s\tremaining: 5m 16s\n",
      "200:\tlearn: 1.4818453\ttest: 1.5070444\tbest: 1.5070444 (200)\ttotal: 1m 13s\tremaining: 4m 52s\n",
      "300:\tlearn: 1.4638516\ttest: 1.5016071\tbest: 1.5016071 (300)\ttotal: 1m 59s\tremaining: 4m 38s\n",
      "400:\tlearn: 1.4484799\ttest: 1.4983697\tbest: 1.4983697 (400)\ttotal: 2m 42s\tremaining: 4m 2s\n",
      "500:\tlearn: 1.4345747\ttest: 1.4970449\tbest: 1.4970449 (500)\ttotal: 3m 26s\tremaining: 3m 25s\n",
      "600:\tlearn: 1.4237650\ttest: 1.4965192\tbest: 1.4964737 (579)\ttotal: 4m 9s\tremaining: 2m 45s\n",
      "700:\tlearn: 1.4123374\ttest: 1.4963260\tbest: 1.4961744 (652)\ttotal: 4m 51s\tremaining: 2m 4s\n",
      "800:\tlearn: 1.4018164\ttest: 1.4964416\tbest: 1.4961744 (652)\ttotal: 5m 32s\tremaining: 1m 22s\n",
      "900:\tlearn: 1.3915056\ttest: 1.4967396\tbest: 1.4961744 (652)\ttotal: 6m 14s\tremaining: 41.1s\n",
      "999:\tlearn: 1.3815565\ttest: 1.4971529\tbest: 1.4961744 (652)\ttotal: 6m 54s\tremaining: 0us\n",
      "\n",
      "bestTest = 1.496174357\n",
      "bestIteration = 652\n",
      "\n",
      "Shrink model to first 653 iterations.\n"
     ]
    },
    {
     "data": {
      "text/plain": [
       "<catboost.core.CatBoostClassifier at 0x1cf63803e50>"
      ]
     },
     "execution_count": 48,
     "metadata": {},
     "output_type": "execute_result"
    }
   ],
   "source": [
    "from catboost import CatBoostClassifier\n",
    "\n",
    "cb = CatBoostClassifier(random_state=10,use_best_model=True,iterations=1000)\n",
    "cb.fit(X_train,y_train,use_best_model=True,verbose=100,eval_set=(X_test,y_test))"
   ]
  },
  {
   "cell_type": "code",
   "execution_count": 49,
   "id": "4d8eab48",
   "metadata": {},
   "outputs": [
    {
     "data": {
      "text/plain": [
       "42.54180033567741"
      ]
     },
     "execution_count": 49,
     "metadata": {},
     "output_type": "execute_result"
    }
   ],
   "source": [
    "cb_pred = cb.predict(X_test)\n",
    "accuracy_score(y_test,cb_pred)*100 "
   ]
  },
  {
   "cell_type": "code",
   "execution_count": 52,
   "id": "bfb3ac1a",
   "metadata": {},
   "outputs": [
    {
     "name": "stdout",
     "output_type": "stream",
     "text": [
      "              precision    recall  f1-score   support\n",
      "\n",
      "           1       0.41      0.16      0.23      6901\n",
      "           2       0.43      0.51      0.47     23205\n",
      "           3       0.43      0.66      0.52     25792\n",
      "           4       0.41      0.24      0.30     16289\n",
      "           5       0.24      0.00      0.01      3439\n",
      "           6       0.41      0.48      0.44     10470\n",
      "           7       0.12      0.00      0.00       822\n",
      "           8       0.42      0.03      0.05      3093\n",
      "           9       0.36      0.21      0.27      1412\n",
      "          10       0.29      0.01      0.02       782\n",
      "          11       0.52      0.43      0.47      1933\n",
      "\n",
      "    accuracy                           0.43     94138\n",
      "   macro avg       0.37      0.25      0.25     94138\n",
      "weighted avg       0.41      0.43      0.39     94138\n",
      "\n"
     ]
    }
   ],
   "source": [
    "print(classification_report(y_test,cb_pred))"
   ]
  },
  {
   "cell_type": "code",
   "execution_count": 51,
   "id": "85d3bf82",
   "metadata": {},
   "outputs": [
    {
     "data": {
      "text/plain": [
       "45.57692745441715"
      ]
     },
     "execution_count": 51,
     "metadata": {},
     "output_type": "execute_result"
    }
   ],
   "source": [
    "cb_pred_train= cb.predict(X_train)\n",
    "accuracy_score(y_train,cb_pred_train)*100 "
   ]
  },
  {
   "cell_type": "code",
   "execution_count": 53,
   "id": "c4083c9d",
   "metadata": {},
   "outputs": [
    {
     "name": "stdout",
     "output_type": "stream",
     "text": [
      "              precision    recall  f1-score   support\n",
      "\n",
      "           1       0.46      0.19      0.27     16349\n",
      "           2       0.45      0.54      0.49     53890\n",
      "           3       0.45      0.68      0.54     60524\n",
      "           4       0.47      0.26      0.34     38023\n",
      "           5       0.63      0.01      0.02      8102\n",
      "           6       0.45      0.53      0.48     23993\n",
      "           7       0.79      0.01      0.02      1876\n",
      "           8       0.71      0.06      0.10      7003\n",
      "           9       0.55      0.31      0.40      3349\n",
      "          10       0.84      0.07      0.12      1931\n",
      "          11       0.62      0.51      0.56      4615\n",
      "\n",
      "    accuracy                           0.46    219655\n",
      "   macro avg       0.58      0.29      0.30    219655\n",
      "weighted avg       0.48      0.46      0.42    219655\n",
      "\n"
     ]
    }
   ],
   "source": [
    "print(classification_report(y_train,cb_pred_train))"
   ]
  },
  {
   "cell_type": "markdown",
   "id": "9170a724",
   "metadata": {},
   "source": [
    "### Submission"
   ]
  },
  {
   "cell_type": "code",
   "execution_count": 216,
   "id": "6b391de9",
   "metadata": {},
   "outputs": [],
   "source": [
    "ls  =  df_full_test.columns.tolist()\n",
    "\n",
    "in_data  =  df_full_test[ls]\n",
    "\n",
    "out_data =  cb.predict (in_data)"
   ]
  },
  {
   "cell_type": "code",
   "execution_count": 217,
   "id": "f6c4aa20",
   "metadata": {},
   "outputs": [],
   "source": [
    "test = pd.read_csv('test_data.csv')\n",
    "submit =  pd.DataFrame()"
   ]
  },
  {
   "cell_type": "code",
   "execution_count": 218,
   "id": "afb4b1d2",
   "metadata": {},
   "outputs": [
    {
     "data": {
      "text/html": [
       "<div>\n",
       "<style scoped>\n",
       "    .dataframe tbody tr th:only-of-type {\n",
       "        vertical-align: middle;\n",
       "    }\n",
       "\n",
       "    .dataframe tbody tr th {\n",
       "        vertical-align: top;\n",
       "    }\n",
       "\n",
       "    .dataframe thead th {\n",
       "        text-align: right;\n",
       "    }\n",
       "</style>\n",
       "<table border=\"1\" class=\"dataframe\">\n",
       "  <thead>\n",
       "    <tr style=\"text-align: right;\">\n",
       "      <th></th>\n",
       "      <th>case_id</th>\n",
       "      <th>Stay</th>\n",
       "    </tr>\n",
       "  </thead>\n",
       "  <tbody>\n",
       "    <tr>\n",
       "      <th>0</th>\n",
       "      <td>318439</td>\n",
       "      <td>0-10</td>\n",
       "    </tr>\n",
       "    <tr>\n",
       "      <th>1</th>\n",
       "      <td>318440</td>\n",
       "      <td>51-60</td>\n",
       "    </tr>\n",
       "    <tr>\n",
       "      <th>2</th>\n",
       "      <td>318441</td>\n",
       "      <td>21-30</td>\n",
       "    </tr>\n",
       "    <tr>\n",
       "      <th>3</th>\n",
       "      <td>318442</td>\n",
       "      <td>21-30</td>\n",
       "    </tr>\n",
       "    <tr>\n",
       "      <th>4</th>\n",
       "      <td>318443</td>\n",
       "      <td>51-60</td>\n",
       "    </tr>\n",
       "    <tr>\n",
       "      <th>5</th>\n",
       "      <td>318444</td>\n",
       "      <td>21-30</td>\n",
       "    </tr>\n",
       "    <tr>\n",
       "      <th>6</th>\n",
       "      <td>318445</td>\n",
       "      <td>21-30</td>\n",
       "    </tr>\n",
       "    <tr>\n",
       "      <th>7</th>\n",
       "      <td>318446</td>\n",
       "      <td>21-30</td>\n",
       "    </tr>\n",
       "    <tr>\n",
       "      <th>8</th>\n",
       "      <td>318447</td>\n",
       "      <td>21-30</td>\n",
       "    </tr>\n",
       "    <tr>\n",
       "      <th>9</th>\n",
       "      <td>318448</td>\n",
       "      <td>21-30</td>\n",
       "    </tr>\n",
       "    <tr>\n",
       "      <th>10</th>\n",
       "      <td>318449</td>\n",
       "      <td>21-30</td>\n",
       "    </tr>\n",
       "    <tr>\n",
       "      <th>11</th>\n",
       "      <td>318450</td>\n",
       "      <td>51-60</td>\n",
       "    </tr>\n",
       "    <tr>\n",
       "      <th>12</th>\n",
       "      <td>318451</td>\n",
       "      <td>21-30</td>\n",
       "    </tr>\n",
       "    <tr>\n",
       "      <th>13</th>\n",
       "      <td>318452</td>\n",
       "      <td>21-30</td>\n",
       "    </tr>\n",
       "    <tr>\n",
       "      <th>14</th>\n",
       "      <td>318453</td>\n",
       "      <td>31-40</td>\n",
       "    </tr>\n",
       "  </tbody>\n",
       "</table>\n",
       "</div>"
      ],
      "text/plain": [
       "    case_id   Stay\n",
       "0    318439   0-10\n",
       "1    318440  51-60\n",
       "2    318441  21-30\n",
       "3    318442  21-30\n",
       "4    318443  51-60\n",
       "5    318444  21-30\n",
       "6    318445  21-30\n",
       "7    318446  21-30\n",
       "8    318447  21-30\n",
       "9    318448  21-30\n",
       "10   318449  21-30\n",
       "11   318450  51-60\n",
       "12   318451  21-30\n",
       "13   318452  21-30\n",
       "14   318453  31-40"
      ]
     },
     "execution_count": 218,
     "metadata": {},
     "output_type": "execute_result"
    }
   ],
   "source": [
    "submit ['case_id']  =  test['case_id']\n",
    "submit ['Stay']     =  out_data\n",
    "\n",
    "stay_decode         =  {  1 : '0-10', 2 : '11-20', 3 : '21-30', 4 : '31-40', 5 : '41-50', 6 : '51-60', 7 : '61-70',8 : '71-80', 9 : '81-90', \n",
    "                         10 : '91-100', 11 : 'More than 100 Days' }\n",
    "\n",
    "submit ['Stay']     =  submit ['Stay'].map(stay_decode)\n",
    "\n",
    "submit.head(15)"
   ]
  },
  {
   "cell_type": "code",
   "execution_count": 225,
   "id": "ff38c1fe",
   "metadata": {},
   "outputs": [
    {
     "data": {
      "text/plain": [
       "21-30                 85076\n",
       "51-60                 23685\n",
       "11-20                 12285\n",
       "31-40                  6693\n",
       "0-10                   5242\n",
       "More than 100 Days     2407\n",
       "81-90                  1329\n",
       "71-80                   174\n",
       "41-50                   127\n",
       "91-100                   32\n",
       "61-70                     7\n",
       "Name: Stay, dtype: int64"
      ]
     },
     "execution_count": 225,
     "metadata": {},
     "output_type": "execute_result"
    }
   ],
   "source": [
    "count = submit ['Stay'].value_counts()\n",
    "count"
   ]
  },
  {
   "cell_type": "code",
   "execution_count": 226,
   "id": "e14cd992",
   "metadata": {},
   "outputs": [
    {
     "data": {
      "text/plain": [
       "<AxesSubplot:>"
      ]
     },
     "execution_count": 226,
     "metadata": {},
     "output_type": "execute_result"
    },
    {
     "data": {
      "image/png": "[encoded data removed]",
      "text/plain": [
       "<Figure size 1080x576 with 1 Axes>"
      ]
     },
     "metadata": {
      "needs_background": "light"
     },
     "output_type": "display_data"
    }
   ],
   "source": [
    "sns.barplot(x=count.index.values, y=count.values,data=submit)"
   ]
  },
  {
   "cell_type": "code",
   "execution_count": null,
   "id": "ba6bd5cb",
   "metadata": {},
   "outputs": [],
   "source": []
  }
 ],
 "metadata": {
  "kernelspec": {
   "display_name": "Python 3",
   "language": "python",
   "name": "python3"
  },
  "language_info": {
   "codemirror_mode": {
    "name": "ipython",
    "version": 3
   },
   "file_extension": ".py",
   "mimetype": "text/x-python",
   "name": "python",
   "nbconvert_exporter": "python",
   "pygments_lexer": "ipython3",
   "version": "3.8.8"
  }
 },
 "nbformat": 4,
 "nbformat_minor": 5
}
